{
 "cells": [
  {
   "cell_type": "code",
   "execution_count": null,
   "id": "018c2d52-82c5-49b2-ab4a-1b05a8d9961e",
   "metadata": {},
   "outputs": [],
   "source": [
    "%%capture --no-stderr\n",
    "%pip install --upgrade --quiet langchain langchain-community langchain-openai faiss-cpu\n",
    "\n",
    "# tutorial here https://python.langchain.com/docs/tutorials/sql_qa/"
   ]
  },
  {
   "cell_type": "code",
   "execution_count": 10,
   "id": "aae0f3a9-4e0c-4173-b616-15f03f49f8fa",
   "metadata": {},
   "outputs": [],
   "source": [
    "import getpass\n",
    "import os\n",
    "if not os.environ.get(\"OPENAI_API_KEY\"):\n",
    "    os.environ[\"OPENAI_API_KEY\"] = getpass.getpass()"
   ]
  },
  {
   "cell_type": "code",
   "execution_count": 11,
   "id": "15383584",
   "metadata": {},
   "outputs": [],
   "source": [
    "if not os.environ.get(\"LANGSMITH_API_KEY\"):\n",
    "    os.environ[\"LANGSMITH_API_KEY\"] = getpass.getpass()\n",
    "    os.environ[\"LANGSMITH_TRACING\"] = \"true\""
   ]
  },
  {
   "cell_type": "code",
   "execution_count": 12,
   "id": "0700dd50-1dcc-4a0f-b773-fead95292136",
   "metadata": {},
   "outputs": [
    {
     "name": "stdout",
     "output_type": "stream",
     "text": [
      "sqlite\n",
      "['diary_entries']\n"
     ]
    }
   ],
   "source": [
    "from langchain_community.utilities import SQLDatabase\n",
    "\n",
    "db = SQLDatabase.from_uri(\"sqlite:///diary.db\")\n",
    "print(db.dialect)\n",
    "print(db.get_usable_table_names())"
   ]
  },
  {
   "cell_type": "code",
   "execution_count": 13,
   "id": "409472d9",
   "metadata": {},
   "outputs": [
    {
     "name": "stdout",
     "output_type": "stream",
     "text": [
      "Date: 2023-03-28, Content: - i would like to spend a day more in my body and ...\n",
      "Date: 2025-04-08, Content: Today is 8th of April 2025. I want to honor this d...\n",
      "Date: 2023-09-12, Content: - value of the day. compassion.\n",
      "- this morning i w...\n",
      "Date: 2024-03-12, Content: - encuentro con el monje induista de bilbao.\n",
      "- dic...\n",
      "Date: 2024-01-17, Content: - en la meditacion. tension entre el hyperachiever...\n",
      "Date: 2024-09-09, Content: - first day of coworking at commonshub. i met a gi...\n",
      "Date: 2024-03-06, Content: - learning to see everything with curiosity\n",
      "- me l...\n",
      "Date: 2025-04-04, Content: I am somewhere on the 4th of April 2025 and it's l...\n",
      "Date: 2025-03-28, Content: - Today is 28th of March 2025. It's in the morning...\n",
      "Date: 2022-12-24, Content: - la pregunta inicial. what is the spiritualist mo...\n",
      "Date: 2023-08-25, Content: - el tiempo invertido en cuidados personales. cuid...\n",
      "Date: 2024-06-20, Content: - i know it's difficult to change our daily habits...\n",
      "Date: 2025-03-08, Content: Hello, personal assistant. I would like to ask you...\n",
      "Date: 2023-10-22, Content: - empiezo viendo el video 321. estaria bien termin...\n",
      "Date: 2023-08-02, Content: - ayer, cuando quise hacer balance del dia, no me ...\n",
      "Date: 2025-03-06, Content: Yesterday we did some singing and breathing exerci...\n",
      "Date: 2023-03-29, Content: - manten la cabeza alta y la dignidad en tus accio...\n",
      "Date: 2024-02-07, Content: - despair: el convencimiento absoluto de que los p...\n",
      "Date: 2025-03-04, Content: - It's 5:00 in the morning. I had a dream about an...\n",
      "Date: 2024-01-12, Content: - incidente de ayer con el zumo de manzana: ayer l...\n",
      "Date: 2025-03-22, Content: - Today, Saturday 22nd of March, I'm in Groenendal...\n",
      "Date: 2024-03-07, Content: - los recursos son abundantes. disponibles y reale...\n",
      "Date: 2025-04-07, Content: Today is Monday 7th of April. I just turned on the...\n",
      "Date: 2025-03-30, Content: - remorque visit to wemmel. we found some lentils ...\n",
      "Date: 2024-02-12, Content: - value of the previous week. connect. belong , be...\n",
      "Date: 2025-04-23, Content: Today is 23rd of April. It's in the morning. I had...\n",
      "Date: 2023-06-22, Content: - hablamos de julie de los angeles guardianes. si ...\n",
      "Date: 2023-09-11, Content: - is it naive to realign what we do with what we b...\n",
      "Date: 2025-02-28, Content: - This Friday, 28th of February 2025, we started t...\n",
      "Date: 2024-01-15, Content: - en la meditacion: uno de mis grandes retos es re...\n",
      "Date: 2024-12-19, Content: - how difficult is for me to allow things. laisser...\n",
      "Date: 2025-04-03, Content: - j'ai du mal a m;ouvrir aux autres.\n",
      "- una incapac...\n",
      "Date: 2024-04-29, Content: - una meditacion matinal en los estanques de ixell...\n",
      "Date: 2024-05-09, Content: - como entro en la seance psy? la conexion con un ...\n",
      "Date: 2023-09-05, Content: - value of the day: open\n",
      "- open mind. time to leav...\n",
      "Date: 2023-09-14, Content: - tenemos un problema : no tenemos una promesa de ...\n",
      "Date: 2025-03-26, Content: - Voice gets transformed into data. This data can ...\n",
      "Date: 2025-04-16, Content: It's Wednesday, 16th of April. I just came from di...\n",
      "Date: 2024-07-08, Content: - le digo a ugne esta manhana algo que he sentido ...\n",
      "Date: 2025-03-13, Content: - Today is 13th of March 2025. Just left the meeti...\n",
      "Date: 2022-11-23, Content: - soy mas que un cv\n",
      "-...\n",
      "Date: 2024-02-29, Content: - el psy me recomienda de nuevo, que soy esclavo d...\n",
      "Date: 2023-12-13, Content: - cafe des parents. me recuerda que soy un padre. ...\n",
      "Date: 2022-09-17, Content: - uno de los grandes errores de mi juventud era pe...\n",
      "Date: 2025-02-18, Content: - Today is Tuesday 18th of February 2025. I just h...\n",
      "Date: 2023-01-30, Content: - dar respuestas. ayudar a la gente con sus herram...\n",
      "Date: 2025-03-12, Content: Hello. Yesterday, Ugne, my girlfriend, explained m...\n",
      "Date: 2023-06-07, Content: - a good day of work starts by reviewing what my v...\n",
      "Date: 2023-01-29, Content: - It might be surprising but although i am about t...\n",
      "Date: 2023-09-07, Content: - value of the day __compassion__\n",
      "- cuando veo a a...\n",
      "Date: 2023-01-26, Content: - los recursos del manuel funcional se agotan y ll...\n",
      "Date: 2025-04-13, Content: Today, Sunday 13th of April. And we. I went to the...\n",
      "Date: 2022-06-21, Content: - hoy he querido dedicar un momento a entrar en co...\n",
      "Date: 2024-10-23, Content: - tanto si respondes bien como mal vas a tener que...\n",
      "Date: 2025-03-25, Content: - Today is 25th of March. It's Thursday. I'm havin...\n",
      "Date: 2023-01-03, Content: - para poder tener la calma para escribir necesito...\n",
      "Date: 2022-06-23, Content: - more and more acknowledging the dimension of the...\n",
      "Date: 2024-03-14, Content: - anticiper choses qui vont se passer: voy a escuc...\n",
      "Date: 2025-03-15, Content: Today is Saturday 15th of March. One of the bigges...\n",
      "Date: 2025-04-20, Content: Today, Sunday 20th of April. It's becoming more an...\n",
      "Date: 2024-12-25, Content: - good habits for next year: read less and write m...\n",
      "Date: 2024-03-13, Content: - on peut mettre de l'energie pour que les choses ...\n",
      "Date: 2023-03-22, Content: - giving from the heart\n",
      "-...\n",
      "Date: 2024-07-17, Content: - en mi mision vital de re-equilibrar no veo que m...\n",
      "Date: 2025-03-19, Content: - Tonight is 19th of March 2025. I am in San Gille...\n",
      "Date: 2025-01-06, Content: - para poder encontrar a ugne en un espacio compar...\n",
      "Date: 2022-05-31, Content: - la libertad se conquista en cada momento\n",
      "- la li...\n",
      "Date: 2025-03-17, Content: - Its Monday 17th of March and I am wandering in L...\n",
      "Date: 2024-12-27, Content: - la filososfia del como. como llegas. tools and m...\n",
      "Date: 2025-02-26, Content: - Today is Wednesday 26th of February. I'm a bit a...\n",
      "Date: 2024-05-30, Content: - las raices no son visibles. deep conversations a...\n",
      "Date: 2022-07-08, Content: - dialogar con el juez para introducirle nuevos va...\n",
      "Date: 2024-02-22, Content: - en la meditacion....pasas demasiado tiempo en tu...\n",
      "Date: 2025-04-09, Content: Today is 9th of April 2025. It's important that we...\n",
      "Date: 2022-10-13, Content: - vamos capitan !\n",
      "- darle carinho al campitan. ani...\n",
      "Date: 2025-02-06, Content: -...\n",
      "Date: 2024-01-30, Content: - resonancias del atelier de meditacion del doming...\n",
      "Date: 2024-10-10, Content: - un sistema en equilibrio escucha a diferentes ni...\n",
      "Date: 2023-09-10, Content: - i love you with all my heart because\n",
      "- you are a...\n",
      "Date: 2022-04-30, Content: - i open a new graph in tickler folder...\n",
      "Date: 2024-07-16, Content: - la jornada empieza dificil. la mision de re-equi...\n",
      "Date: 2024-08-06, Content: - hay que dejar atras la ilusion de que controlo m...\n",
      "Date: 2022-12-15, Content: - i know i have this need to share my knowledge an...\n",
      "Date: 2024-09-03, Content: - reunion avec benoit psy. what is important. not ...\n",
      "Date: 2025-03-05, Content: - Every day I listen to the bell of a church. The ...\n",
      "Date: 2023-08-24, Content: - value of the day: vulnerability . how can we liv...\n",
      "Date: 2024-05-15, Content: - bring the body with me.\n",
      "- de alguna manera en la...\n",
      "Date: 2023-08-23, Content: - uno de los pilares fundamentales de la #nuevarel...\n",
      "Date: 2024-11-05, Content: - hablamos de flujos energeticos como algo mas sim...\n",
      "Date: 2024-01-25, Content: - vuelvo a la vida. recupero la salud tras 3 dias ...\n",
      "Date: 2024-10-16, Content: - ada y ugne se van a lt\n",
      "- no esta en duda mi capa...\n",
      "Date: 2023-09-06, Content: - for the jobsearch : we are looking for more seni...\n",
      "Date: 2022-07-01, Content: - le capitain prends le controle. es un padre que ...\n",
      "Date: 2022-07-07, Content: - the values of the european institutions. i just ...\n",
      "Date: 2025-03-09, Content: - Today, Sunday, I didn't have a very good night. ...\n",
      "Date: 2025-03-10, Content: Today is 10th of March. I woke up very early at 6:...\n",
      "Date: 2023-08-26, Content: - como afecta mi conocimiento de techno con la rel...\n",
      "Date: 2024-07-25, Content: - une fenetre. una ventana. los momentos de acceso...\n",
      "Date: 2024-12-05, Content: - #nuevarelacion me estoy creando una nueva relaci...\n",
      "Date: 2024-06-10, Content: - quiero vivir un mundo mas solido y rico. y esto ...\n",
      "Date: 2024-07-15, Content: - cada vez veo mas claro. un sistema en el que la ...\n",
      "Date: 2022-09-15, Content: - el proceso de transformacion personal que estoy ...\n"
     ]
    }
   ],
   "source": [
    "from sqlalchemy import create_engine  # Import create_engine\n",
    "from sqlalchemy.orm import sessionmaker\n",
    "from create_diary_schema import DiaryEntry\n",
    "\n",
    "# Connect to the SQLite database\n",
    "engine = create_engine(\"sqlite:///diary.db\")\n",
    "Session = sessionmaker(bind=engine)\n",
    "session = Session()\n",
    "\n",
    "# Query all diary entries\n",
    "entries = session.query(DiaryEntry).all()\n",
    "for entry in entries:\n",
    "    print(f\"Date: {entry.date}, Content: {entry.content[:50]}...\")  # Print the first 50 characters"
   ]
  },
  {
   "cell_type": "code",
   "execution_count": 14,
   "id": "dc389e31-b058-4813-a515-2ea2ef9d0181",
   "metadata": {},
   "outputs": [
    {
     "name": "stdout",
     "output_type": "stream",
     "text": [
      "Note: you may need to restart the kernel to use updated packages.\n"
     ]
    }
   ],
   "source": [
    "pip install -qU langchain-openai"
   ]
  },
  {
   "cell_type": "code",
   "execution_count": 14,
   "id": "d96647f4-2e40-4c77-a2b3-fb14e6da1b2a",
   "metadata": {},
   "outputs": [],
   "source": [
    "\n",
    "\n",
    "from langchain.chat_models import init_chat_model\n",
    "\n",
    "llm = init_chat_model(\"gpt-4o-mini\", model_provider=\"openai\")"
   ]
  },
  {
   "cell_type": "code",
   "execution_count": 15,
   "id": "4ba61d0e-e1ac-44f4-a3dc-9e39391e4099",
   "metadata": {},
   "outputs": [],
   "source": [
    "from typing_extensions import TypedDict\n",
    "\n",
    "\n",
    "class State(TypedDict):\n",
    "    question: str\n",
    "    query: str\n",
    "    result: str\n",
    "    answer: str"
   ]
  },
  {
   "cell_type": "code",
   "execution_count": 16,
   "id": "165b1aae",
   "metadata": {},
   "outputs": [
    {
     "name": "stderr",
     "output_type": "stream",
     "text": [
      "/home/manuel/Documents/ACCION_old/clients/yves_cariou_3.9/venv/lib/python3.9/site-packages/langsmith/client.py:354: LangSmithMissingAPIKeyWarning: API key must be provided when using hosted LangSmith API\n",
      "  warnings.warn(\n"
     ]
    },
    {
     "name": "stdout",
     "output_type": "stream",
     "text": [
      "================================\u001b[1m System Message \u001b[0m================================\n",
      "\n",
      "Given an input question, create a syntactically correct \u001b[33;1m\u001b[1;3m{dialect}\u001b[0m query to run to help find the answer. Unless the user specifies in his question a specific number of examples they wish to obtain, always limit your query to at most \u001b[33;1m\u001b[1;3m{top_k}\u001b[0m results. You can order the results by a relevant column to return the most interesting examples in the database.\n",
      "\n",
      "Never query for all the columns from a specific table, only ask for a the few relevant columns given the question.\n",
      "\n",
      "Pay attention to use only the column names that you can see in the schema description. Be careful to not query for columns that do not exist. Also, pay attention to which column is in which table.\n",
      "\n",
      "Only use the following tables:\n",
      "\u001b[33;1m\u001b[1;3m{table_info}\u001b[0m\n",
      "================================\u001b[1m Human Message \u001b[0m=================================\n",
      "\n",
      "Question: \u001b[33;1m\u001b[1;3m{input}\u001b[0m\n"
     ]
    }
   ],
   "source": [
    "from langchain import hub\n",
    "\n",
    "query_prompt_template = hub.pull(\"langchain-ai/sql-query-system-prompt\")\n",
    "\n",
    "assert len(query_prompt_template.messages) == 2\n",
    "for message in query_prompt_template.messages:\n",
    "    message.pretty_print()"
   ]
  },
  {
   "cell_type": "code",
   "execution_count": 17,
   "id": "1c8e6f42",
   "metadata": {},
   "outputs": [],
   "source": [
    "from typing_extensions import Annotated\n",
    "\n",
    "\n",
    "class QueryOutput(TypedDict):\n",
    "    \"\"\"Generated SQL query.\"\"\"\n",
    "\n",
    "    query: Annotated[str, ..., \"Syntactically valid SQL query.\"]\n",
    "\n",
    "\n",
    "def write_query(state: State):\n",
    "    \"\"\"Generate SQL query to fetch information.\"\"\"\n",
    "    prompt = query_prompt_template.invoke(\n",
    "        {\n",
    "            \"dialect\": db.dialect,\n",
    "            \"top_k\": 10,\n",
    "            \"table_info\": db.get_table_info(),\n",
    "            \"input\": state[\"question\"],\n",
    "        }\n",
    "    )\n",
    "    structured_llm = llm.with_structured_output(QueryOutput)\n",
    "    result = structured_llm.invoke(prompt)\n",
    "    return {\"query\": result[\"query\"]}"
   ]
  },
  {
   "cell_type": "code",
   "execution_count": 18,
   "id": "c44e3ef1",
   "metadata": {},
   "outputs": [
    {
     "data": {
      "text/plain": [
       "{'query': 'SELECT COUNT(*) AS total_entries FROM diary_entries;'}"
      ]
     },
     "execution_count": 18,
     "metadata": {},
     "output_type": "execute_result"
    }
   ],
   "source": [
    "write_query({\"question\": \"How many diary entries are there?\"})"
   ]
  },
  {
   "cell_type": "code",
   "execution_count": 19,
   "id": "66331589",
   "metadata": {},
   "outputs": [],
   "source": [
    "from langchain_community.tools.sql_database.tool import QuerySQLDatabaseTool\n",
    "\n",
    "\n",
    "def execute_query(state: State):\n",
    "    \"\"\"Execute SQL query.\"\"\"\n",
    "    execute_query_tool = QuerySQLDatabaseTool(db=db)\n",
    "    return {\"result\": execute_query_tool.invoke(state[\"query\"])}"
   ]
  },
  {
   "cell_type": "code",
   "execution_count": 20,
   "id": "a7ef4b09",
   "metadata": {},
   "outputs": [
    {
     "data": {
      "text/plain": [
       "{'result': '[(102,)]'}"
      ]
     },
     "execution_count": 20,
     "metadata": {},
     "output_type": "execute_result"
    }
   ],
   "source": [
    "execute_query({\"query\": \"SELECT COUNT(*) AS total_entries FROM diary_entries;\"})"
   ]
  },
  {
   "cell_type": "code",
   "execution_count": 21,
   "id": "a86d2b14",
   "metadata": {},
   "outputs": [],
   "source": [
    "def generate_answer(state: State):\n",
    "    \"\"\"Answer question using retrieved information as context.\"\"\"\n",
    "    prompt = (\n",
    "        \"Given the following user question, corresponding SQL query, \"\n",
    "        \"and SQL result, answer the user question.\\n\\n\"\n",
    "        f'Question: {state[\"question\"]}\\n'\n",
    "        f'SQL Query: {state[\"query\"]}\\n'\n",
    "        f'SQL Result: {state[\"result\"]}'\n",
    "    )\n",
    "    response = llm.invoke(prompt)\n",
    "    return {\"answer\": response.content}"
   ]
  },
  {
   "cell_type": "code",
   "execution_count": null,
   "id": "94555583",
   "metadata": {},
   "outputs": [
    {
     "ename": "AttributeError",
     "evalue": "'StateGraph' object has no attribute 'add_sequence'",
     "output_type": "error",
     "traceback": [
      "\u001b[0;31m---------------------------------------------------------------------------\u001b[0m",
      "\u001b[0;31mAttributeError\u001b[0m                            Traceback (most recent call last)",
      "Cell \u001b[0;32mIn[22], line 3\u001b[0m\n\u001b[1;32m      1\u001b[0m \u001b[38;5;28;01mfrom\u001b[39;00m \u001b[38;5;21;01mlanggraph\u001b[39;00m\u001b[38;5;21;01m.\u001b[39;00m\u001b[38;5;21;01mgraph\u001b[39;00m \u001b[38;5;28;01mimport\u001b[39;00m START, StateGraph\n\u001b[0;32m----> 3\u001b[0m graph_builder \u001b[38;5;241m=\u001b[39m \u001b[43mStateGraph\u001b[49m\u001b[43m(\u001b[49m\u001b[43mState\u001b[49m\u001b[43m)\u001b[49m\u001b[38;5;241;43m.\u001b[39;49m\u001b[43madd_sequence\u001b[49m(\n\u001b[1;32m      4\u001b[0m     [write_query, execute_query, generate_answer]\n\u001b[1;32m      5\u001b[0m )\n\u001b[1;32m      6\u001b[0m graph_builder\u001b[38;5;241m.\u001b[39madd_edge(START, \u001b[38;5;124m\"\u001b[39m\u001b[38;5;124mwrite_query\u001b[39m\u001b[38;5;124m\"\u001b[39m)\n\u001b[1;32m      7\u001b[0m graph \u001b[38;5;241m=\u001b[39m graph_builder\u001b[38;5;241m.\u001b[39mcompile()\n",
      "\u001b[0;31mAttributeError\u001b[0m: 'StateGraph' object has no attribute 'add_sequence'"
     ]
    }
   ],
   "source": [
    "from langgraph.graph import START, StateGraph\n",
    "\n",
    "graph_builder = StateGraph(State).add_sequence(\n",
    "    [write_query, execute_query, generate_answer]\n",
    ")\n",
    "graph_builder.add_edge(START, \"write_query\")\n",
    "graph = graph_builder.compile()"
   ]
  }
 ],
 "metadata": {
  "kernelspec": {
   "display_name": "yc_final 3.9 (venv)",
   "language": "python",
   "name": "venv-3.9"
  },
  "language_info": {
   "codemirror_mode": {
    "name": "ipython",
    "version": 3
   },
   "file_extension": ".py",
   "mimetype": "text/x-python",
   "name": "python",
   "nbconvert_exporter": "python",
   "pygments_lexer": "ipython3",
   "version": "3.9.22"
  }
 },
 "nbformat": 4,
 "nbformat_minor": 5
}
