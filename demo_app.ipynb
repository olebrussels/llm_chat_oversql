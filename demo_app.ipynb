{
 "cells": [
  {
   "cell_type": "code",
   "execution_count": 1,
   "id": "09ff7baf-fb8c-49df-9525-5a00b9eb657e",
   "metadata": {},
   "outputs": [
    {
     "name": "stdout",
     "output_type": "stream",
     "text": [
      "Note: you may need to restart the kernel to use updated packages.\n"
     ]
    }
   ],
   "source": [
    "%pip install -qU langchain langchain-openai langchain-community langchain-experimental pandas"
   ]
  },
  {
   "cell_type": "code",
   "execution_count": null,
   "id": "776964bc-059f-47c9-afa5-34a232dbc92a",
   "metadata": {},
   "outputs": [],
   "source": [
    "import os\n",
    "import getpass\n",
    "os.environ[\"LANGCHAIN_TRACING_V2\"] = \"true\"\n",
    "if not os.environ.get(\"LANGCHAIN_API_KEY\"):\n",
    "    os.environ[\"LANGCHAIN_API_KEY\"] = getpass.getpass()"
   ]
  },
  {
   "cell_type": "code",
   "execution_count": 2,
   "id": "f3ae2b5c-7982-4aba-aecb-d5db56c71ac6",
   "metadata": {},
   "outputs": [
    {
     "name": "stdout",
     "output_type": "stream",
     "text": [
      "(9243, 9)\n",
      "['Code Evamed', 'Motif de demande', 'Code CIS', 'Code CIP', 'Dénomination spécialité', 'Date avis définitif', 'ASMR', 'Valeur ASMR', 'Libellé ASMR$']\n"
     ]
    }
   ],
   "source": [
    "import pandas as pd\n",
    "df_csv = pd.read_csv('asmr-20240924.csv', encoding='Windows-1252', sep=';', on_bad_lines='skip')\n",
    "df_csv.columns = df_csv.columns.str.strip('$').str.strip()\n",
    "print(df_csv.shape)\n",
    "print(df_csv.columns.tolist())"
   ]
  },
  {
   "cell_type": "code",
   "execution_count": 3,
   "id": "6248cb4a-d1c0-48ab-b1ee-49540aee5216",
   "metadata": {},
   "outputs": [
    {
     "name": "stdout",
     "output_type": "stream",
     "text": [
      "object\n"
     ]
    }
   ],
   "source": [
    "# Check the data type of the column\n",
    "print(df_csv['Valeur ASMR'].dtype)\n"
   ]
  },
  {
   "cell_type": "code",
   "execution_count": 4,
   "id": "5ffec677-46e9-4ec5-9f94-f45f251bbbce",
   "metadata": {},
   "outputs": [
    {
     "name": "stdout",
     "output_type": "stream",
     "text": [
      "List of all sheet names in the Excel file: ['GERS 12 2022']\n"
     ]
    }
   ],
   "source": [
    "import pandas as pd\n",
    "\n",
    "# Load the Excel file\n",
    "xls_file = 'Tableau_moleicules_et_marques_commercialisees_en_France_en_2022.xlsx'\n",
    "xls = pd.ExcelFile(xls_file)\n",
    "\n",
    "# Get the list of sheet names\n",
    "sheet_names = xls.sheet_names\n",
    "print(\"List of all sheet names in the Excel file:\", sheet_names)\n"
   ]
  },
  {
   "cell_type": "code",
   "execution_count": 5,
   "id": "47b52287-ef92-44aa-97cc-b5611e72bc4d",
   "metadata": {},
   "outputs": [
    {
     "name": "stdout",
     "output_type": "stream",
     "text": [
      "DataFrames created for each sheet: dict_keys(['GERS 12 2022'])\n"
     ]
    }
   ],
   "source": [
    "# Create a dictionary to hold each sheet's DataFrame\n",
    "sheets_dict = pd.read_excel(xls_file, sheet_name=None)  # sheet_name=None loads all sheets into a dictionary\n",
    "\n",
    "# Print the keys of the dictionary to confirm DataFrame names (each sheet is a DataFrame)\n",
    "print(\"DataFrames created for each sheet:\", sheets_dict.keys())\n"
   ]
  },
  {
   "cell_type": "code",
   "execution_count": 6,
   "id": "1088c398-03f2-417d-92f2-977603b58fb7",
   "metadata": {},
   "outputs": [
    {
     "name": "stdout",
     "output_type": "stream",
     "text": [
      "Engine created for database 'asmr.db'\n"
     ]
    }
   ],
   "source": [
    "from langchain_community.utilities import SQLDatabase\n",
    "from sqlalchemy import create_engine\n",
    "\n",
    "engine = create_engine(\"sqlite:///asmr.db\")\n",
    "print(\"Engine created for database 'asmr.db'\")"
   ]
  },
  {
   "cell_type": "code",
   "execution_count": 7,
   "id": "8e8878f1-785b-407c-a42e-f0bd03196af3",
   "metadata": {},
   "outputs": [
    {
     "name": "stdout",
     "output_type": "stream",
     "text": [
      "Successfully added 'GERS 12 2022' as table 'gers_12_2022' in the database.\n"
     ]
    }
   ],
   "source": [
    "# Loop through each sheet in sheets_dict\n",
    "for sheet_name, df in sheets_dict.items():\n",
    "    # Clean up the sheet name to use it as a valid table name\n",
    "    table_name = sheet_name.replace(' ', '_').replace('-', '_').replace('(', '').replace(')', '').lower()\n",
    "    \n",
    "    # Load the DataFrame into the database as a separate table\n",
    "    try:\n",
    "        df.to_sql(table_name, engine, index=False, if_exists='replace')\n",
    "        print(f\"Successfully added '{sheet_name}' as table '{table_name}' in the database.\")\n",
    "    except Exception as e:\n",
    "        print(f\"Error while adding '{sheet_name}' as table '{table_name}': {e}\")\n"
   ]
  },
  {
   "cell_type": "code",
   "execution_count": 8,
   "id": "1f8524ed-199b-4bc1-9912-3d8d27223269",
   "metadata": {},
   "outputs": [
    {
     "data": {
      "text/plain": [
       "9243"
      ]
     },
     "execution_count": 8,
     "metadata": {},
     "output_type": "execute_result"
    }
   ],
   "source": [
    "df_csv.to_sql(\"csv_data\", engine, index=False, if_exists='replace')"
   ]
  },
  {
   "cell_type": "code",
   "execution_count": 9,
   "id": "8a54373a-c14a-4508-ae52-78f8bcd614aa",
   "metadata": {},
   "outputs": [
    {
     "name": "stdout",
     "output_type": "stream",
     "text": [
      "Existing tables: ['PSP_SPE', 'age', 'asmr', 'atc1', 'atc2', 'atc3', 'atc4', 'atc5', 'ben_reg', 'cip13', 'csv_data', 'gen_num', 'gers_12_2022', 'sexe', 'top_gen', 'variables', 'xls_data']\n"
     ]
    }
   ],
   "source": [
    "from sqlalchemy import create_engine, inspect\n",
    "\n",
    "# Create an SQLite engine\n",
    "engine = create_engine('sqlite:///asmr.db')\n",
    "\n",
    "# Use the inspector to get a list of all tables in the database\n",
    "inspector = inspect(engine)\n",
    "tables = inspector.get_table_names()\n",
    "\n",
    "# Print the list of tables\n",
    "print(\"Existing tables:\", tables)\n",
    "\n"
   ]
  },
  {
   "cell_type": "code",
   "execution_count": 10,
   "id": "2638b3e5-7b24-49ea-8e62-4084fa035160",
   "metadata": {},
   "outputs": [
    {
     "name": "stdout",
     "output_type": "stream",
     "text": [
      "sqlite\n",
      "['PSP_SPE', 'age', 'asmr', 'atc1', 'atc2', 'atc3', 'atc4', 'atc5', 'ben_reg', 'cip13', 'csv_data', 'gen_num', 'gers_12_2022', 'sexe', 'top_gen', 'variables', 'xls_data']\n",
      "[('$CT-21025$', '$Inscription (CT)$', '$66077218$', '$3400930294611$', '$FEXOFENADINE ARROW 180 mg, comprimé pelliculé$', '$04/09/2024$', '$ASMR$', '$V$', \"$Ces spécialités sont des génériques qui n'apportent pas d'amélioration du service médical rendu (ASMR V) par rapport aux spécialités à base de fexofénadine déjà inscrites.$\"), ('$CT-21016$', '$Inscription (CT)$', '$64314227$', '$3400955101734$', '$OXYGENE MEDICINAL LINDE HEALTHCARE 200 bar, gaz pour inhalation, en bouteille$', '$28/08/2024$', '$ASMR$', '$V$', \"$Cette spécialité est un complément de gamme qui n'apporte pas d'amélioration du service médical rendu (ASMR V) par rapport aux présentations déjà inscrites.$\"), ('$CT-21007$', '$Inscription (CT)$', '$60120260$', '$3400930280522$', '$CHLORHEXIDINE LIBERTY PHARMA 0,20 %, solution pour bain de bouche$', '$28/08/2024$', '$ASMR$', '$V$', \"$Cette spécialité est un complément de gamme qui n'apporte pas d'amélioration du service médical rendu (ASMR V) par rapport aux présentations déjà inscrites.$\"), ('$CT-20978$', '$Inscription (CT)$', '$63696560$', '$3400930283073$', '$EBGLYSS 250 mg, solution injectable en seringue préremplie$', '$04/09/2024$', '$ASMR$', '$V$', \"$Ces présentations sont des compléments de gamme qui n'apportent pas d'amélioration du service médical rendu (ASMR V) par rapport aux présentations déjà inscrites.$\"), ('$CT-20969$', \"$Extension d'indication$\", '$63363591$', '$3400930247556$', '$CHLORAPREP, tampon cutané imprégné en applicateur$', '$04/09/2024$', '$ASMR$', '$V$', \"$Cette spécialité est un complément de gamme qui n'apportent pas d'amélioration du service médical rendu (ASMR V) par rapport aux présentations déjà inscrites.$\")]\n"
     ]
    }
   ],
   "source": [
    "db = SQLDatabase(engine=engine)\n",
    "print(db.dialect)\n",
    "print(db.get_usable_table_names())\n",
    "print(db.run(\"SELECT * FROM asmr LIMIT 5;\"))"
   ]
  },
  {
   "cell_type": "code",
   "execution_count": 11,
   "id": "cd1e02b9-1f73-41b0-aac4-1f9f74acf8a9",
   "metadata": {},
   "outputs": [
    {
     "name": "stdout",
     "output_type": "stream",
     "text": [
      " ········\n"
     ]
    }
   ],
   "source": [
    "import getpass\n",
    "import os\n",
    "\n",
    "os.environ[\"OPENAI_API_KEY\"] = getpass.getpass()\n",
    "\n",
    "from langchain_openai import ChatOpenAI\n",
    "\n",
    "llm = ChatOpenAI(model=\"gpt-4o-mini\")"
   ]
  },
  {
   "cell_type": "code",
   "execution_count": 12,
   "id": "3a56fc14-e49b-4796-bb10-f2ffa1328aed",
   "metadata": {},
   "outputs": [],
   "source": [
    "from langchain_community.agent_toolkits import create_sql_agent\n",
    "\n",
    "agent_executor = create_sql_agent(llm, db=db, agent_type=\"openai-tools\", verbose=True)"
   ]
  },
  {
   "cell_type": "code",
   "execution_count": 14,
   "id": "dffc7c61-360b-460a-adbd-1d8a6397f8d8",
   "metadata": {},
   "outputs": [
    {
     "name": "stdout",
     "output_type": "stream",
     "text": [
      "\n",
      "\n",
      "\u001b[1m> Entering new SQL Agent Executor chain...\u001b[0m\n",
      "\u001b[32;1m\u001b[1;3m\n",
      "Invoking: `sql_db_list_tables` with `{}`\n",
      "\n",
      "\n",
      "\u001b[0m\u001b[38;5;200m\u001b[1;3mPSP_SPE, age, asmr, atc1, atc2, atc3, atc4, atc5, ben_reg, cip13, csv_data, gen_num, gers_12_2022, sexe, top_gen, variables, xls_data\u001b[0m\u001b[32;1m\u001b[1;3m\n",
      "Invoking: `sql_db_schema` with `{'table_names': 'PSP_SPE'}`\n",
      "\n",
      "\n",
      "\u001b[0m\u001b[33;1m\u001b[1;3m\n",
      "CREATE TABLE \"PSP_SPE\" (\n",
      "\t\"PSP_SPE\" FLOAT, \n",
      "\t\"Libellé Prescripteur\" TEXT, \n",
      "\t\"Unnamed: 2\" TEXT\n",
      ")\n",
      "\n",
      "/*\n",
      "3 rows from PSP_SPE table:\n",
      "PSP_SPE\tLibellé Prescripteur\tUnnamed: 2\n",
      "None\tNone\tNone\n",
      "1.0\tMEDECINE GENERALE LIBERALE\tPRESCRIPTEURS DE VILLE\n",
      "(MEDECINS et DENTISTES)\n",
      "2.0\tANESTHESIOLOGIE - REANIMATION LIBERALE\tNone\n",
      "*/\u001b[0m\u001b[32;1m\u001b[1;3m\n",
      "Invoking: `sql_db_schema` with `{'table_names': 'cip13'}`\n",
      "\n",
      "\n",
      "\u001b[0m\u001b[33;1m\u001b[1;3m\n",
      "CREATE TABLE cip13 (\n",
      "\t\"CIP13\" BIGINT, \n",
      "\t\"Libellé CIP13\" TEXT\n",
      ")\n",
      "\n",
      "/*\n",
      "3 rows from cip13 table:\n",
      "CIP13\tLibellé CIP13\n",
      "3400921604696\tYELLOX 0,9MG/ML COLLY FL5ML 1\n",
      "3400921609080\tAVONEX 0,03MG/0,5ML SOL INJ STYLO 4\n",
      "3400921610550\tPOLYGYNAX VIRGO CAPSULE VAGINALE 6\n",
      "*/\u001b[0m\u001b[32;1m\u001b[1;3m\n",
      "Invoking: `sql_db_query_checker` with `{'query': \"SELECT CIP13 FROM cip13 WHERE Libellé CIP13 LIKE '%ZYTIGA 250MG CPR FL 120%';\"}`\n",
      "responded: The relevant table for product codes is the `cip13` table, which contains the columns `CIP13` (code) and `Libellé CIP13` (product description).\n",
      "\n",
      "Now, I will query the `cip13` table to find the EAN code for \"ZYTIGA 250MG CPR FL 120\". I will also double-check the query before executing it. \n",
      "\n",
      "The query will be:\n",
      "```sql\n",
      "SELECT CIP13 FROM cip13 WHERE Libellé CIP13 LIKE '%ZYTIGA 250MG CPR FL 120%';\n",
      "```\n",
      "\n",
      "\u001b[0m\u001b[36;1m\u001b[1;3m```sql\n",
      "SELECT CIP13 FROM cip13 WHERE Libellé CIP13 LIKE '%ZYTIGA 250MG CPR FL 120%';\n",
      "```\u001b[0m\u001b[32;1m\u001b[1;3m\n",
      "Invoking: `sql_db_query` with `{'query': \"SELECT CIP13 FROM cip13 WHERE Libellé CIP13 LIKE '%ZYTIGA 250MG CPR FL 120%';\"}`\n",
      "\n",
      "\n",
      "\u001b[0m\u001b[36;1m\u001b[1;3mError: (sqlite3.OperationalError) near \"CIP13\": syntax error\n",
      "[SQL: SELECT CIP13 FROM cip13 WHERE Libellé CIP13 LIKE '%ZYTIGA 250MG CPR FL 120%';]\n",
      "(Background on this error at: https://sqlalche.me/e/20/e3q8)\u001b[0m\u001b[32;1m\u001b[1;3m\n",
      "Invoking: `sql_db_query_checker` with `{'query': \"SELECT CIP13 FROM cip13 WHERE `Libellé CIP13` LIKE '%ZYTIGA 250MG CPR FL 120%';\"}`\n",
      "responded: It seems there was a syntax error due to the special character in the column name. I will rewrite the query using backticks to handle the special character correctly. \n",
      "\n",
      "The revised query will be:\n",
      "```sql\n",
      "SELECT CIP13 FROM cip13 WHERE `Libellé CIP13` LIKE '%ZYTIGA 250MG CPR FL 120%';\n",
      "```\n",
      "\n",
      "Now, I will check this query before executing it.\n",
      "\n",
      "\u001b[0m\u001b[36;1m\u001b[1;3m```sql\n",
      "SELECT CIP13 FROM cip13 WHERE `Libellé CIP13` LIKE '%ZYTIGA 250MG CPR FL 120%';\n",
      "```\u001b[0m\u001b[32;1m\u001b[1;3m\n",
      "Invoking: `sql_db_query` with `{'query': \"SELECT CIP13 FROM cip13 WHERE `Libellé CIP13` LIKE '%ZYTIGA 250MG CPR FL 120%';\"}`\n",
      "\n",
      "\n",
      "\u001b[0m\u001b[36;1m\u001b[1;3m\u001b[0m\u001b[32;1m\u001b[1;3mIt appears that there were no results found for \"ZYTIGA 250MG CPR FL 120\" in the database. Therefore, I cannot provide the EAN code for that product.\u001b[0m\n",
      "\n",
      "\u001b[1m> Finished chain.\u001b[0m\n"
     ]
    },
    {
     "data": {
      "text/plain": [
       "{'input': {'input: give me the code EAN of ZYTIGA 250MG CPR FL 120'},\n",
       " 'output': 'It appears that there were no results found for \"ZYTIGA 250MG CPR FL 120\" in the database. Therefore, I cannot provide the EAN code for that product.'}"
      ]
     },
     "execution_count": 14,
     "metadata": {},
     "output_type": "execute_result"
    }
   ],
   "source": [
    "agent_executor.invoke({\"input: give me the code EAN of ZYTIGA 250MG CPR FL 120\"})"
   ]
  },
  {
   "cell_type": "code",
   "execution_count": null,
   "id": "82a4e9db-7a36-4def-9a1f-42667e17df1f",
   "metadata": {},
   "outputs": [],
   "source": []
  }
 ],
 "metadata": {
  "kernelspec": {
   "display_name": "yc_final 3.9 (venv)",
   "language": "python",
   "name": "venv-3.9"
  },
  "language_info": {
   "codemirror_mode": {
    "name": "ipython",
    "version": 3
   },
   "file_extension": ".py",
   "mimetype": "text/x-python",
   "name": "python",
   "nbconvert_exporter": "python",
   "pygments_lexer": "ipython3",
   "version": "3.9.20"
  }
 },
 "nbformat": 4,
 "nbformat_minor": 5
}
