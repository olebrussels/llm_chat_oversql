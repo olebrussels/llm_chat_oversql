{
 "cells": [
  {
   "cell_type": "code",
   "execution_count": 3,
   "id": "09ff7baf-fb8c-49df-9525-5a00b9eb657e",
   "metadata": {},
   "outputs": [
    {
     "name": "stdout",
     "output_type": "stream",
     "text": [
      "Note: you may need to restart the kernel to use updated packages.\n"
     ]
    }
   ],
   "source": [
    "%pip install -qU langchain langchain-openai langchain-community langchain-experimental pandas"
   ]
  },
  {
   "cell_type": "code",
   "execution_count": 4,
   "id": "776964bc-059f-47c9-afa5-34a232dbc92a",
   "metadata": {},
   "outputs": [
    {
     "name": "stdin",
     "output_type": "stream",
     "text": [
      " ········\n"
     ]
    }
   ],
   "source": [
    "import os\n",
    "import getpass\n",
    "os.environ[\"LANGCHAIN_TRACING_V2\"] = \"true\"\n",
    "if not os.environ.get(\"LANGCHAIN_API_KEY\"):\n",
    "    os.environ[\"LANGCHAIN_API_KEY\"] = getpass.getpass()"
   ]
  },
  {
   "cell_type": "code",
   "execution_count": 5,
   "id": "f3ae2b5c-7982-4aba-aecb-d5db56c71ac6",
   "metadata": {},
   "outputs": [
    {
     "name": "stdout",
     "output_type": "stream",
     "text": [
      "(9243, 9)\n",
      "['$Code Evamed$', '$Motif de demande$', '$Code CIS$', '$Code CIP$', '$Dénomination spécialité$', '$Date avis définitif$', '$ASMR$', '$Valeur ASMR$', '$Libellé ASMR$ ']\n"
     ]
    }
   ],
   "source": [
    "import pandas as pd\n",
    "df = pd.read_csv('asmr-20240924.csv', encoding='Windows-1252', sep=';', on_bad_lines='skip')\n",
    "print(df.shape)\n",
    "print(df.columns.tolist())"
   ]
  },
  {
   "cell_type": "code",
   "execution_count": 7,
   "id": "1f8524ed-199b-4bc1-9912-3d8d27223269",
   "metadata": {},
   "outputs": [
    {
     "data": {
      "text/plain": [
       "9243"
      ]
     },
     "execution_count": 7,
     "metadata": {},
     "output_type": "execute_result"
    }
   ],
   "source": [
    "from langchain_community.utilities import SQLDatabase\n",
    "from sqlalchemy import create_engine\n",
    "\n",
    "engine = create_engine(\"sqlite:///asmr.db\")\n",
    "df.to_sql(\"asmr\", engine, index=False, if_exists='replace')"
   ]
  },
  {
   "cell_type": "code",
   "execution_count": 10,
   "id": "8a54373a-c14a-4508-ae52-78f8bcd614aa",
   "metadata": {},
   "outputs": [
    {
     "name": "stdout",
     "output_type": "stream",
     "text": [
      "Existing tables: ['asmr']\n"
     ]
    }
   ],
   "source": [
    "from sqlalchemy import create_engine, inspect\n",
    "\n",
    "# Create an SQLite engine\n",
    "engine = create_engine('sqlite:///asmr.db')\n",
    "\n",
    "# Use the inspector to get a list of all tables in the database\n",
    "inspector = inspect(engine)\n",
    "tables = inspector.get_table_names()\n",
    "\n",
    "# Print the list of tables\n",
    "print(\"Existing tables:\", tables)\n",
    "\n"
   ]
  },
  {
   "cell_type": "code",
   "execution_count": 11,
   "id": "2638b3e5-7b24-49ea-8e62-4084fa035160",
   "metadata": {},
   "outputs": [
    {
     "name": "stdout",
     "output_type": "stream",
     "text": [
      "sqlite\n",
      "['asmr']\n",
      "[('$CT-21025$', '$Inscription (CT)$', '$66077218$', '$3400930294611$', '$FEXOFENADINE ARROW 180 mg, comprimé pelliculé$', '$04/09/2024$', '$ASMR$', '$V$', \"$Ces spécialités sont des génériques qui n'apportent pas d'amélioration du service médical rendu (ASMR V) par rapport aux spécialités à base de fexofénadine déjà inscrites.$\"), ('$CT-21016$', '$Inscription (CT)$', '$64314227$', '$3400955101734$', '$OXYGENE MEDICINAL LINDE HEALTHCARE 200 bar, gaz pour inhalation, en bouteille$', '$28/08/2024$', '$ASMR$', '$V$', \"$Cette spécialité est un complément de gamme qui n'apporte pas d'amélioration du service médical rendu (ASMR V) par rapport aux présentations déjà inscrites.$\"), ('$CT-21007$', '$Inscription (CT)$', '$60120260$', '$3400930280522$', '$CHLORHEXIDINE LIBERTY PHARMA 0,20 %, solution pour bain de bouche$', '$28/08/2024$', '$ASMR$', '$V$', \"$Cette spécialité est un complément de gamme qui n'apporte pas d'amélioration du service médical rendu (ASMR V) par rapport aux présentations déjà inscrites.$\"), ('$CT-20978$', '$Inscription (CT)$', '$63696560$', '$3400930283073$', '$EBGLYSS 250 mg, solution injectable en seringue préremplie$', '$04/09/2024$', '$ASMR$', '$V$', \"$Ces présentations sont des compléments de gamme qui n'apportent pas d'amélioration du service médical rendu (ASMR V) par rapport aux présentations déjà inscrites.$\"), ('$CT-20969$', \"$Extension d'indication$\", '$63363591$', '$3400930247556$', '$CHLORAPREP, tampon cutané imprégné en applicateur$', '$04/09/2024$', '$ASMR$', '$V$', \"$Cette spécialité est un complément de gamme qui n'apportent pas d'amélioration du service médical rendu (ASMR V) par rapport aux présentations déjà inscrites.$\")]\n"
     ]
    }
   ],
   "source": [
    "db = SQLDatabase(engine=engine)\n",
    "print(db.dialect)\n",
    "print(db.get_usable_table_names())\n",
    "print(db.run(\"SELECT * FROM asmr LIMIT 5;\"))"
   ]
  },
  {
   "cell_type": "code",
   "execution_count": 12,
   "id": "cd1e02b9-1f73-41b0-aac4-1f9f74acf8a9",
   "metadata": {},
   "outputs": [
    {
     "name": "stdin",
     "output_type": "stream",
     "text": [
      " ········\n"
     ]
    }
   ],
   "source": [
    "import getpass\n",
    "import os\n",
    "\n",
    "os.environ[\"OPENAI_API_KEY\"] = getpass.getpass()\n",
    "\n",
    "from langchain_openai import ChatOpenAI\n",
    "\n",
    "llm = ChatOpenAI(model=\"gpt-4o-mini\")"
   ]
  },
  {
   "cell_type": "code",
   "execution_count": 13,
   "id": "3a56fc14-e49b-4796-bb10-f2ffa1328aed",
   "metadata": {},
   "outputs": [],
   "source": [
    "from langchain_community.agent_toolkits import create_sql_agent\n",
    "\n",
    "agent_executor = create_sql_agent(llm, db=db, agent_type=\"openai-tools\", verbose=True)"
   ]
  },
  {
   "cell_type": "code",
   "execution_count": 14,
   "id": "dffc7c61-360b-460a-adbd-1d8a6397f8d8",
   "metadata": {},
   "outputs": [
    {
     "name": "stdout",
     "output_type": "stream",
     "text": [
      "\n",
      "\n",
      "\u001b[1m> Entering new SQL Agent Executor chain...\u001b[0m\n",
      "\u001b[32;1m\u001b[1;3m\n",
      "Invoking: `sql_db_list_tables` with `{}`\n",
      "\n",
      "\n",
      "\u001b[0m\u001b[38;5;200m\u001b[1;3masmr\u001b[0m\u001b[32;1m\u001b[1;3m\n",
      "Invoking: `sql_db_schema` with `{'table_names': 'asmr'}`\n",
      "\n",
      "\n",
      "\u001b[0m\u001b[33;1m\u001b[1;3m\n",
      "CREATE TABLE asmr (\n",
      "\t\"$Code Evamed$\" TEXT, \n",
      "\t\"$Motif de demande$\" TEXT, \n",
      "\t\"$Code CIS$\" TEXT, \n",
      "\t\"$Code CIP$\" TEXT, \n",
      "\t\"$Dénomination spécialité$\" TEXT, \n",
      "\t\"$Date avis définitif$\" TEXT, \n",
      "\t\"$ASMR$\" TEXT, \n",
      "\t\"$Valeur ASMR$\" TEXT, \n",
      "\t\"$Libellé ASMR$ \" TEXT\n",
      ")\n",
      "\n",
      "/*\n",
      "3 rows from asmr table:\n",
      "$Code Evamed$\t$Motif de demande$\t$Code CIS$\t$Code CIP$\t$Dénomination spécialité$\t$Date avis définitif$\t$ASMR$\t$Valeur ASMR$\t$Libellé ASMR$ \n",
      "$CT-21025$\t$Inscription (CT)$\t$66077218$\t$3400930294611$\t$FEXOFENADINE ARROW 180 mg, comprimé pelliculé$\t$04/09/2024$\t$ASMR$\t$V$\t$Ces spécialités sont des génériques qui n'apportent pas d'amélioration du service médical rendu (AS\n",
      "$CT-21016$\t$Inscription (CT)$\t$64314227$\t$3400955101734$\t$OXYGENE MEDICINAL LINDE HEALTHCARE 200 bar, gaz pour inhalation, en bouteille$\t$28/08/2024$\t$ASMR$\t$V$\t$Cette spécialité est un complément de gamme qui n'apporte pas d'amélioration du service médical ren\n",
      "$CT-21007$\t$Inscription (CT)$\t$60120260$\t$3400930280522$\t$CHLORHEXIDINE LIBERTY PHARMA 0,20 %, solution pour bain de bouche$\t$28/08/2024$\t$ASMR$\t$V$\t$Cette spécialité est un complément de gamme qui n'apporte pas d'amélioration du service médical ren\n",
      "*/\u001b[0m\u001b[32;1m\u001b[1;3m\n",
      "Invoking: `sql_db_query_checker` with `{'query': 'SELECT \"$Valeur ASMR$\" FROM asmr LIMIT 5'}`\n",
      "\n",
      "\n",
      "\u001b[0m\u001b[36;1m\u001b[1;3m```sql\n",
      "SELECT \"$Valeur ASMR$\" FROM asmr LIMIT 5\n",
      "```\u001b[0m\u001b[32;1m\u001b[1;3m\n",
      "Invoking: `sql_db_query` with `{'query': 'SELECT \"$Valeur ASMR$\" FROM asmr LIMIT 5'}`\n",
      "\n",
      "\n",
      "\u001b[0m\u001b[36;1m\u001b[1;3m[('$V$',), ('$V$',), ('$V$',), ('$V$',), ('$V$',)]\u001b[0m\u001b[32;1m\u001b[1;3mThe first 5 rows of the column named \"Valeur ASMR\" are all `$V$`.\u001b[0m\n",
      "\n",
      "\u001b[1m> Finished chain.\u001b[0m\n"
     ]
    },
    {
     "data": {
      "text/plain": [
       "{'input': 'give me the first 5 rows of column named Valeur ASMR',\n",
       " 'output': 'The first 5 rows of the column named \"Valeur ASMR\" are all `$V$`.'}"
      ]
     },
     "execution_count": 14,
     "metadata": {},
     "output_type": "execute_result"
    }
   ],
   "source": [
    "agent_executor.invoke({\"input\": \"give me the first 5 rows of column named Valeur ASMR\"})"
   ]
  },
  {
   "cell_type": "code",
   "execution_count": null,
   "id": "ab1fbbb6-4a79-4fe4-999c-7fcc5fa5f293",
   "metadata": {},
   "outputs": [],
   "source": []
  }
 ],
 "metadata": {
  "kernelspec": {
   "display_name": "yc_final 3.9 (venv)",
   "language": "python",
   "name": "venv-3.9"
  },
  "language_info": {
   "codemirror_mode": {
    "name": "ipython",
    "version": 3
   },
   "file_extension": ".py",
   "mimetype": "text/x-python",
   "name": "python",
   "nbconvert_exporter": "python",
   "pygments_lexer": "ipython3",
   "version": "3.9.5"
  }
 },
 "nbformat": 4,
 "nbformat_minor": 5
}
