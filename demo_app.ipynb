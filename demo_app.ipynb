{
 "cells": [
  {
   "cell_type": "code",
   "execution_count": 1,
   "id": "09ff7baf-fb8c-49df-9525-5a00b9eb657e",
   "metadata": {},
   "outputs": [
    {
     "name": "stdout",
     "output_type": "stream",
     "text": [
      "Note: you may need to restart the kernel to use updated packages.\n"
     ]
    }
   ],
   "source": [
    "%pip install -qU langchain langchain-openai langchain-community langchain-experimental pandas"
   ]
  },
  {
   "cell_type": "code",
   "execution_count": 1,
   "id": "776964bc-059f-47c9-afa5-34a232dbc92a",
   "metadata": {},
   "outputs": [
    {
     "name": "stdin",
     "output_type": "stream",
     "text": [
      " ········\n"
     ]
    }
   ],
   "source": [
    "import os\n",
    "import getpass\n",
    "os.environ[\"LANGCHAIN_TRACING_V2\"] = \"true\"\n",
    "if not os.environ.get(\"LANGCHAIN_API_KEY\"):\n",
    "    os.environ[\"LANGCHAIN_API_KEY\"] = getpass.getpass()"
   ]
  },
  {
   "cell_type": "code",
   "execution_count": 2,
   "id": "f3ae2b5c-7982-4aba-aecb-d5db56c71ac6",
   "metadata": {},
   "outputs": [
    {
     "name": "stdout",
     "output_type": "stream",
     "text": [
      "(9243, 9)\n",
      "['Code Evamed', 'Motif de demande', 'Code CIS', 'Code CIP', 'Dénomination spécialité', 'Date avis définitif', 'ASMR', 'Valeur ASMR', 'Libellé ASMR$']\n"
     ]
    }
   ],
   "source": [
    "import pandas as pd\n",
    "df_csv = pd.read_csv('asmr-20240924.csv', encoding='Windows-1252', sep=';', on_bad_lines='skip')\n",
    "df_csv.columns = df_csv.columns.str.strip('$').str.strip()\n",
    "print(df_csv.shape)\n",
    "print(df_csv.columns.tolist())"
   ]
  },
  {
   "cell_type": "code",
   "execution_count": 3,
   "id": "6248cb4a-d1c0-48ab-b1ee-49540aee5216",
   "metadata": {},
   "outputs": [
    {
     "name": "stdout",
     "output_type": "stream",
     "text": [
      "object\n"
     ]
    }
   ],
   "source": [
    "# Check the data type of the column\n",
    "print(df_csv['Valeur ASMR'].dtype)\n"
   ]
  },
  {
   "cell_type": "code",
   "execution_count": 5,
   "id": "5ffec677-46e9-4ec5-9f94-f45f251bbbce",
   "metadata": {},
   "outputs": [
    {
     "name": "stdout",
     "output_type": "stream",
     "text": [
      "List of all sheet names in the Excel file: ['GERS 12 2022']\n"
     ]
    }
   ],
   "source": [
    "import pandas as pd\n",
    "\n",
    "# Load the Excel file\n",
    "xls_file = 'Tableau_moleicules_et_marques_commercialisees_en_France_en_2022.xlsx'\n",
    "xls = pd.ExcelFile(xls_file)\n",
    "\n",
    "# Get the list of sheet names\n",
    "sheet_names = xls.sheet_names\n",
    "print(\"List of all sheet names in the Excel file:\", sheet_names)\n"
   ]
  },
  {
   "cell_type": "code",
   "execution_count": 6,
   "id": "47b52287-ef92-44aa-97cc-b5611e72bc4d",
   "metadata": {},
   "outputs": [
    {
     "name": "stdout",
     "output_type": "stream",
     "text": [
      "DataFrames created for each sheet: dict_keys(['GERS 12 2022'])\n"
     ]
    }
   ],
   "source": [
    "# Create a dictionary to hold each sheet's DataFrame\n",
    "sheets_dict = pd.read_excel(xls_file, sheet_name=None)  # sheet_name=None loads all sheets into a dictionary\n",
    "\n",
    "# Print the keys of the dictionary to confirm DataFrame names (each sheet is a DataFrame)\n",
    "print(\"DataFrames created for each sheet:\", sheets_dict.keys())\n"
   ]
  },
  {
   "cell_type": "code",
   "execution_count": 7,
   "id": "1088c398-03f2-417d-92f2-977603b58fb7",
   "metadata": {},
   "outputs": [
    {
     "name": "stdout",
     "output_type": "stream",
     "text": [
      "Engine created for database 'asmr.db'\n"
     ]
    }
   ],
   "source": [
    "from langchain_community.utilities import SQLDatabase\n",
    "from sqlalchemy import create_engine\n",
    "\n",
    "engine = create_engine(\"sqlite:///asmr.db\")\n",
    "print(\"Engine created for database 'asmr.db'\")"
   ]
  },
  {
   "cell_type": "code",
   "execution_count": 8,
   "id": "8e8878f1-785b-407c-a42e-f0bd03196af3",
   "metadata": {},
   "outputs": [
    {
     "name": "stdout",
     "output_type": "stream",
     "text": [
      "Successfully added 'GERS 12 2022' as table 'gers_12_2022' in the database.\n"
     ]
    }
   ],
   "source": [
    "# Loop through each sheet in sheets_dict\n",
    "for sheet_name, df in sheets_dict.items():\n",
    "    # Clean up the sheet name to use it as a valid table name\n",
    "    table_name = sheet_name.replace(' ', '_').replace('-', '_').replace('(', '').replace(')', '').lower()\n",
    "    \n",
    "    # Load the DataFrame into the database as a separate table\n",
    "    try:\n",
    "        df.to_sql(table_name, engine, index=False, if_exists='replace')\n",
    "        print(f\"Successfully added '{sheet_name}' as table '{table_name}' in the database.\")\n",
    "    except Exception as e:\n",
    "        print(f\"Error while adding '{sheet_name}' as table '{table_name}': {e}\")\n"
   ]
  },
  {
   "cell_type": "code",
   "execution_count": 9,
   "id": "1f8524ed-199b-4bc1-9912-3d8d27223269",
   "metadata": {},
   "outputs": [
    {
     "data": {
      "text/plain": [
       "9243"
      ]
     },
     "execution_count": 9,
     "metadata": {},
     "output_type": "execute_result"
    }
   ],
   "source": [
    "df_csv.to_sql(\"csv_data\", engine, index=False, if_exists='replace')"
   ]
  },
  {
   "cell_type": "code",
   "execution_count": 10,
   "id": "8a54373a-c14a-4508-ae52-78f8bcd614aa",
   "metadata": {},
   "outputs": [
    {
     "name": "stdout",
     "output_type": "stream",
     "text": [
      "Existing tables: ['PSP_SPE', 'age', 'asmr', 'atc1', 'atc2', 'atc3', 'atc4', 'atc5', 'ben_reg', 'cip13', 'csv_data', 'gen_num', 'gers_12_2022', 'sexe', 'top_gen', 'variables', 'xls_data']\n"
     ]
    }
   ],
   "source": [
    "from sqlalchemy import create_engine, inspect\n",
    "\n",
    "# Create an SQLite engine\n",
    "engine = create_engine('sqlite:///asmr.db')\n",
    "\n",
    "# Use the inspector to get a list of all tables in the database\n",
    "inspector = inspect(engine)\n",
    "tables = inspector.get_table_names()\n",
    "\n",
    "# Print the list of tables\n",
    "print(\"Existing tables:\", tables)\n",
    "\n"
   ]
  },
  {
   "cell_type": "code",
   "execution_count": 11,
   "id": "2638b3e5-7b24-49ea-8e62-4084fa035160",
   "metadata": {},
   "outputs": [
    {
     "name": "stdout",
     "output_type": "stream",
     "text": [
      "sqlite\n",
      "['PSP_SPE', 'age', 'asmr', 'atc1', 'atc2', 'atc3', 'atc4', 'atc5', 'ben_reg', 'cip13', 'csv_data', 'gen_num', 'gers_12_2022', 'sexe', 'top_gen', 'variables', 'xls_data']\n",
      "[('$CT-21025$', '$Inscription (CT)$', '$66077218$', '$3400930294611$', '$FEXOFENADINE ARROW 180 mg, comprimé pelliculé$', '$04/09/2024$', '$ASMR$', '$V$', \"$Ces spécialités sont des génériques qui n'apportent pas d'amélioration du service médical rendu (ASMR V) par rapport aux spécialités à base de fexofénadine déjà inscrites.$\"), ('$CT-21016$', '$Inscription (CT)$', '$64314227$', '$3400955101734$', '$OXYGENE MEDICINAL LINDE HEALTHCARE 200 bar, gaz pour inhalation, en bouteille$', '$28/08/2024$', '$ASMR$', '$V$', \"$Cette spécialité est un complément de gamme qui n'apporte pas d'amélioration du service médical rendu (ASMR V) par rapport aux présentations déjà inscrites.$\"), ('$CT-21007$', '$Inscription (CT)$', '$60120260$', '$3400930280522$', '$CHLORHEXIDINE LIBERTY PHARMA 0,20 %, solution pour bain de bouche$', '$28/08/2024$', '$ASMR$', '$V$', \"$Cette spécialité est un complément de gamme qui n'apporte pas d'amélioration du service médical rendu (ASMR V) par rapport aux présentations déjà inscrites.$\"), ('$CT-20978$', '$Inscription (CT)$', '$63696560$', '$3400930283073$', '$EBGLYSS 250 mg, solution injectable en seringue préremplie$', '$04/09/2024$', '$ASMR$', '$V$', \"$Ces présentations sont des compléments de gamme qui n'apportent pas d'amélioration du service médical rendu (ASMR V) par rapport aux présentations déjà inscrites.$\"), ('$CT-20969$', \"$Extension d'indication$\", '$63363591$', '$3400930247556$', '$CHLORAPREP, tampon cutané imprégné en applicateur$', '$04/09/2024$', '$ASMR$', '$V$', \"$Cette spécialité est un complément de gamme qui n'apportent pas d'amélioration du service médical rendu (ASMR V) par rapport aux présentations déjà inscrites.$\")]\n"
     ]
    }
   ],
   "source": [
    "db = SQLDatabase(engine=engine)\n",
    "print(db.dialect)\n",
    "print(db.get_usable_table_names())\n",
    "print(db.run(\"SELECT * FROM asmr LIMIT 5;\"))"
   ]
  },
  {
   "cell_type": "code",
   "execution_count": 12,
   "id": "cd1e02b9-1f73-41b0-aac4-1f9f74acf8a9",
   "metadata": {},
   "outputs": [
    {
     "name": "stdin",
     "output_type": "stream",
     "text": [
      " ········\n"
     ]
    }
   ],
   "source": [
    "import getpass\n",
    "import os\n",
    "\n",
    "os.environ[\"OPENAI_API_KEY\"] = getpass.getpass()\n",
    "\n",
    "from langchain_openai import ChatOpenAI\n",
    "\n",
    "llm = ChatOpenAI(model=\"gpt-4o-mini\")"
   ]
  },
  {
   "cell_type": "code",
   "execution_count": 13,
   "id": "3a56fc14-e49b-4796-bb10-f2ffa1328aed",
   "metadata": {},
   "outputs": [],
   "source": [
    "from langchain_community.agent_toolkits import create_sql_agent\n",
    "\n",
    "agent_executor = create_sql_agent(llm, db=db, agent_type=\"openai-tools\", verbose=True)"
   ]
  },
  {
   "cell_type": "code",
   "execution_count": 14,
   "id": "dffc7c61-360b-460a-adbd-1d8a6397f8d8",
   "metadata": {},
   "outputs": [
    {
     "name": "stdout",
     "output_type": "stream",
     "text": [
      "\n",
      "\n",
      "\u001b[1m> Entering new SQL Agent Executor chain...\u001b[0m\n",
      "\u001b[32;1m\u001b[1;3m\n",
      "Invoking: `sql_db_list_tables` with `{}`\n",
      "\n",
      "\n",
      "\u001b[0m\u001b[38;5;200m\u001b[1;3mPSP_SPE, age, asmr, atc1, atc2, atc3, atc4, atc5, ben_reg, cip13, csv_data, gen_num, gers_12_2022, sexe, top_gen, variables, xls_data\u001b[0m\u001b[32;1m\u001b[1;3m\n",
      "Invoking: `sql_db_schema` with `{'table_names': 'PSP_SPE'}`\n",
      "\n",
      "\n",
      "\u001b[0m\u001b[33;1m\u001b[1;3m\n",
      "CREATE TABLE \"PSP_SPE\" (\n",
      "\t\"PSP_SPE\" FLOAT, \n",
      "\t\"Libellé Prescripteur\" TEXT, \n",
      "\t\"Unnamed: 2\" TEXT\n",
      ")\n",
      "\n",
      "/*\n",
      "3 rows from PSP_SPE table:\n",
      "PSP_SPE\tLibellé Prescripteur\tUnnamed: 2\n",
      "None\tNone\tNone\n",
      "1.0\tMEDECINE GENERALE LIBERALE\tPRESCRIPTEURS DE VILLE\n",
      "(MEDECINS et DENTISTES)\n",
      "2.0\tANESTHESIOLOGIE - REANIMATION LIBERALE\tNone\n",
      "*/\u001b[0m\u001b[32;1m\u001b[1;3m\n",
      "Invoking: `sql_db_schema` with `{'table_names': 'ben_reg'}`\n",
      "\n",
      "\n",
      "\u001b[0m\u001b[33;1m\u001b[1;3m\n",
      "CREATE TABLE ben_reg (\n",
      "\t\"BEN_REG\" TEXT, \n",
      "\t\"Libellé Région de Résidence du Bénéficiaire\" TEXT\n",
      ")\n",
      "\n",
      "/*\n",
      "3 rows from ben_reg table:\n",
      "BEN_REG\tLibellé Région de Résidence du Bénéficiaire\n",
      "5\tRégions et Départements d'outre-mer \n",
      "11\tIle-de-France\n",
      "24\tCentre-Val de Loire\n",
      "*/\u001b[0m\u001b[32;1m\u001b[1;3m\n",
      "Invoking: `sql_db_schema` with `{'table_names': 'age, asmr, atc1, atc2, atc3, atc4, atc5, cip13, csv_data, gen_num, gers_12_2022, sexe, top_gen, variables, xls_data'}`\n",
      "\n",
      "\n",
      "\u001b[0m\u001b[33;1m\u001b[1;3m\n",
      "CREATE TABLE age (\n",
      "\t\"AGE\" BIGINT, \n",
      "\t\"Libellé Tranche d'Age Bénéficiaire\" TEXT\n",
      ")\n",
      "\n",
      "/*\n",
      "3 rows from age table:\n",
      "AGE\tLibellé Tranche d'Age Bénéficiaire\n",
      "0\t0-19 ANS\n",
      "20\t20 - 59 ANS\n",
      "60\t60 ANS ET +\n",
      "*/\n",
      "\n",
      "\n",
      "CREATE TABLE asmr (\n",
      "\t\"$Code Evamed$\" TEXT, \n",
      "\t\"$Motif de demande$\" TEXT, \n",
      "\t\"$Code CIS$\" TEXT, \n",
      "\t\"$Code CIP$\" TEXT, \n",
      "\t\"$Dénomination spécialité$\" TEXT, \n",
      "\t\"$Date avis définitif$\" TEXT, \n",
      "\t\"$ASMR$\" TEXT, \n",
      "\t\"$Valeur ASMR$\" TEXT, \n",
      "\t\"$Libellé ASMR$ \" TEXT\n",
      ")\n",
      "\n",
      "/*\n",
      "3 rows from asmr table:\n",
      "$Code Evamed$\t$Motif de demande$\t$Code CIS$\t$Code CIP$\t$Dénomination spécialité$\t$Date avis définitif$\t$ASMR$\t$Valeur ASMR$\t$Libellé ASMR$ \n",
      "$CT-21025$\t$Inscription (CT)$\t$66077218$\t$3400930294611$\t$FEXOFENADINE ARROW 180 mg, comprimé pelliculé$\t$04/09/2024$\t$ASMR$\t$V$\t$Ces spécialités sont des génériques qui n'apportent pas d'amélioration du service médical rendu (AS\n",
      "$CT-21016$\t$Inscription (CT)$\t$64314227$\t$3400955101734$\t$OXYGENE MEDICINAL LINDE HEALTHCARE 200 bar, gaz pour inhalation, en bouteille$\t$28/08/2024$\t$ASMR$\t$V$\t$Cette spécialité est un complément de gamme qui n'apporte pas d'amélioration du service médical ren\n",
      "$CT-21007$\t$Inscription (CT)$\t$60120260$\t$3400930280522$\t$CHLORHEXIDINE LIBERTY PHARMA 0,20 %, solution pour bain de bouche$\t$28/08/2024$\t$ASMR$\t$V$\t$Cette spécialité est un complément de gamme qui n'apporte pas d'amélioration du service médical ren\n",
      "*/\n",
      "\n",
      "\n",
      "CREATE TABLE atc1 (\n",
      "\t\"ATC1\" TEXT, \n",
      "\t\"Libellé ATC1\" TEXT\n",
      ")\n",
      "\n",
      "/*\n",
      "3 rows from atc1 table:\n",
      "ATC1\tLibellé ATC1\n",
      "A\tSYSTEME DIGESTIF ET METABOLISME\n",
      "B\tSANG ET ORGANES HEMATOPOIETQUES\n",
      "C\tSYSTEME CARDIO-VASCULAIRE\n",
      "*/\n",
      "\n",
      "\n",
      "CREATE TABLE atc2 (\n",
      "\t\"ATC2\" TEXT, \n",
      "\t\"Libellé ATC2\" TEXT\n",
      ")\n",
      "\n",
      "/*\n",
      "3 rows from atc2 table:\n",
      "ATC2\tLibellé ATC2\n",
      "A01\tPREPARATIONS STOMATOLOGIQUES\n",
      "A02\tMEDICAMENTS POUR LES TROUBLES DE L'ACIDITE\n",
      "A03\tMEDICAMENTS POUR LES TROUBLES FONCTIONNELS GASTROINTESTINAUX\n",
      "*/\n",
      "\n",
      "\n",
      "CREATE TABLE atc3 (\n",
      "\t\"ATC3\" TEXT, \n",
      "\t\"Libellé ATC3\" TEXT\n",
      ")\n",
      "\n",
      "/*\n",
      "3 rows from atc3 table:\n",
      "ATC3\tLibellé ATC3\n",
      "A01A\tPREPARATIONS STOMATOLOGIQUES\n",
      "A02A\tANTIACIDES\n",
      "A02B\tMEDICAMENTS POUR L'ULCÈRE PEPTIQUE ET LE REFLUX GASTRO-OESOPHAGIEN (RGO)\n",
      "*/\n",
      "\n",
      "\n",
      "CREATE TABLE atc4 (\n",
      "\t\"ATC4\" TEXT, \n",
      "\t\"Libellé ATC4\" TEXT, \n",
      "\t\"Unnamed: 2\" FLOAT, \n",
      "\t\"Unnamed: 3\" FLOAT, \n",
      "\t\"Unnamed: 4\" FLOAT, \n",
      "\t\"Unnamed: 5\" FLOAT, \n",
      "\t\"Unnamed: 6\" TEXT, \n",
      "\t\"Unnamed: 7\" TEXT\n",
      ")\n",
      "\n",
      "/*\n",
      "3 rows from atc4 table:\n",
      "ATC4\tLibellé ATC4\tUnnamed: 2\tUnnamed: 3\tUnnamed: 4\tUnnamed: 5\tUnnamed: 6\tUnnamed: 7\n",
      "A01AA\tMEDICAMENTS PROPHYLACTIQUES ANTICARIES\tNone\tNone\tNone\tNone\tNone\tNone\n",
      "A01AB\tANTIINFECTIEUX POUR TRAITEMENT ORAL LOCAL\tNone\tNone\tNone\tNone\tNone\tNone\n",
      "A01AD\tAUTRES MEDICAMENTS POUR TRAITEMENT ORAL LOCAL\tNone\tNone\tNone\tNone\tNone\tNone\n",
      "*/\n",
      "\n",
      "\n",
      "CREATE TABLE atc5 (\n",
      "\t\"ATC5\" TEXT, \n",
      "\t\"Libellé ATC5\" TEXT\n",
      ")\n",
      "\n",
      "/*\n",
      "3 rows from atc5 table:\n",
      "ATC5\tLibellé ATC5\n",
      "A01AA01\tSODIUM FLUORURE\n",
      "A01AA02\tSODIUM MONOFLUOROPHOSPHATE\n",
      "A01AA51\tSODIUM FLUORURE EN ASSOCIATION\n",
      "*/\n",
      "\n",
      "\n",
      "CREATE TABLE cip13 (\n",
      "\t\"CIP13\" BIGINT, \n",
      "\t\"Libellé CIP13\" TEXT\n",
      ")\n",
      "\n",
      "/*\n",
      "3 rows from cip13 table:\n",
      "CIP13\tLibellé CIP13\n",
      "3400921604696\tYELLOX 0,9MG/ML COLLY FL5ML 1\n",
      "3400921609080\tAVONEX 0,03MG/0,5ML SOL INJ STYLO 4\n",
      "3400921610550\tPOLYGYNAX VIRGO CAPSULE VAGINALE 6\n",
      "*/\n",
      "\n",
      "\n",
      "CREATE TABLE csv_data (\n",
      "\t\"Code Evamed\" TEXT, \n",
      "\t\"Motif de demande\" TEXT, \n",
      "\t\"Code CIS\" TEXT, \n",
      "\t\"Code CIP\" TEXT, \n",
      "\t\"Dénomination spécialité\" TEXT, \n",
      "\t\"Date avis définitif\" TEXT, \n",
      "\t\"ASMR\" TEXT, \n",
      "\t\"Valeur ASMR\" TEXT, \n",
      "\t\"Libellé ASMR$\" TEXT\n",
      ")\n",
      "\n",
      "/*\n",
      "3 rows from csv_data table:\n",
      "Code Evamed\tMotif de demande\tCode CIS\tCode CIP\tDénomination spécialité\tDate avis définitif\tASMR\tValeur ASMR\tLibellé ASMR$\n",
      "$CT-21025$\t$Inscription (CT)$\t$66077218$\t$3400930294611$\t$FEXOFENADINE ARROW 180 mg, comprimé pelliculé$\t$04/09/2024$\t$ASMR$\t$V$\t$Ces spécialités sont des génériques qui n'apportent pas d'amélioration du service médical rendu (AS\n",
      "$CT-21016$\t$Inscription (CT)$\t$64314227$\t$3400955101734$\t$OXYGENE MEDICINAL LINDE HEALTHCARE 200 bar, gaz pour inhalation, en bouteille$\t$28/08/2024$\t$ASMR$\t$V$\t$Cette spécialité est un complément de gamme qui n'apporte pas d'amélioration du service médical ren\n",
      "$CT-21007$\t$Inscription (CT)$\t$60120260$\t$3400930280522$\t$CHLORHEXIDINE LIBERTY PHARMA 0,20 %, solution pour bain de bouche$\t$28/08/2024$\t$ASMR$\t$V$\t$Cette spécialité est un complément de gamme qui n'apporte pas d'amélioration du service médical ren\n",
      "*/\n",
      "\n",
      "\n",
      "CREATE TABLE gen_num (\n",
      "\t\"GEN_NUM\" FLOAT, \n",
      "\t\"Libellé Numéro Groupe Générique\" TEXT\n",
      ")\n",
      "\n",
      "/*\n",
      "3 rows from gen_num table:\n",
      "GEN_NUM\tLibellé Numéro Groupe Générique\n",
      "1.0\tACEBUTOLOL EQ 200MG CPR PELLIC\n",
      "3.0\tACICLOVIR 200MG CPR\n",
      "5.0\tACIDE TIAPROFENIQUE 100MG CPR SECAB\n",
      "*/\n",
      "\n",
      "\n",
      "CREATE TABLE gers_12_2022 (\n",
      "\t\"Code EPhMRA\" TEXT, \n",
      "\t\"Libellé EPhMRA\" TEXT, \n",
      "\t\"Groupe\" TEXT, \n",
      "\t\"Laboratoire (constant)\" TEXT, \n",
      "\t\"Code EAN\" FLOAT, \n",
      "\t\"Présentation (nom de marque)\" TEXT, \n",
      "\t\"Produit\" TEXT, \n",
      "\t\"CAHT\" FLOAT, \n",
      "\t\"Volume\" FLOAT, \n",
      "\t\"Date commercialisation\" TEXT, \n",
      "\t\"Dosage\" TEXT, \n",
      "\t\"Quantité de conditionnement\" FLOAT, \n",
      "\t\"Code ATC\" TEXT, \n",
      "\t\"Libellé ATC\" TEXT, \n",
      "\t\"Groupe Générique (constant)\" TEXT, \n",
      "\t\"Générique / Référent (constant)\" TEXT, \n",
      "\t\"UN 01/2021\" FLOAT, \n",
      "\t\"UN 02/2021\" FLOAT, \n",
      "\t\"UN 03/2021\" FLOAT, \n",
      "\t\"UN 04/2021\" FLOAT, \n",
      "\t\"UN 05/2021\" FLOAT, \n",
      "\t\"UN 06/2021\" FLOAT, \n",
      "\t\"UN 07/2021\" FLOAT, \n",
      "\t\"UN 08/2021\" FLOAT, \n",
      "\t\"UN 09/2021\" FLOAT, \n",
      "\t\"UN 10/2021\" FLOAT, \n",
      "\t\"UN 11/2021\" FLOAT, \n",
      "\t\"UN 12/2021\" FLOAT, \n",
      "\t\"UN 01/2022\" FLOAT, \n",
      "\t\"UN 02/2022\" FLOAT, \n",
      "\t\"UN 03/2022\" FLOAT, \n",
      "\t\"UN 04/2022\" FLOAT, \n",
      "\t\"UN 05/2022\" FLOAT, \n",
      "\t\"UN 06/2022\" FLOAT, \n",
      "\t\"UN 07/2022\" FLOAT, \n",
      "\t\"UN 08/2022\" FLOAT, \n",
      "\t\"UN 09/2022\" FLOAT, \n",
      "\t\"UN 10/2022\" FLOAT, \n",
      "\t\"UN 11/2022\" FLOAT, \n",
      "\t\"UN 12/2022\" FLOAT, \n",
      "\t\"CA 01/2021\" FLOAT, \n",
      "\t\"CA 02/2021\" FLOAT, \n",
      "\t\"CA 03/2021\" FLOAT, \n",
      "\t\"CA 04/2021\" FLOAT, \n",
      "\t\"CA 05/2021\" FLOAT, \n",
      "\t\"CA 06/2021\" FLOAT, \n",
      "\t\"CA 07/2021\" FLOAT, \n",
      "\t\"CA 08/2021\" FLOAT, \n",
      "\t\"CA 09/2021\" FLOAT, \n",
      "\t\"CA 10/2021\" FLOAT, \n",
      "\t\"CA 11/2021\" FLOAT, \n",
      "\t\"CA 12/2021\" FLOAT, \n",
      "\t\"CA 01/2022\" FLOAT, \n",
      "\t\"CA 02/2022\" FLOAT, \n",
      "\t\"CA 03/2022\" FLOAT, \n",
      "\t\"CA 04/2022\" FLOAT, \n",
      "\t\"CA 05/2022\" FLOAT, \n",
      "\t\"CA 06/2022\" FLOAT, \n",
      "\t\"CA 07/2022\" FLOAT, \n",
      "\t\"CA 08/2022\" FLOAT, \n",
      "\t\"CA 09/2022\" FLOAT, \n",
      "\t\"CA 10/2022\" FLOAT, \n",
      "\t\"CA 11/2022\" FLOAT, \n",
      "\t\"CA 12/2022\" FLOAT\n",
      ")\n",
      "\n",
      "/*\n",
      "3 rows from gers_12_2022 table:\n",
      "Code EPhMRA\tLibellé EPhMRA\tGroupe\tLaboratoire (constant)\tCode EAN\tPrésentation (nom de marque)\tProduit\tCAHT\tVolume\tDate commercialisation\tDosage\tQuantité de conditionnement\tCode ATC\tLibellé ATC\tGroupe Générique (constant)\tGénérique / Référent (constant)\tUN 01/2021\tUN 02/2021\tUN 03/2021\tUN 04/2021\tUN 05/2021\tUN 06/2021\tUN 07/2021\tUN 08/2021\tUN 09/2021\tUN 10/2021\tUN 11/2021\tUN 12/2021\tUN 01/2022\tUN 02/2022\tUN 03/2022\tUN 04/2022\tUN 05/2022\tUN 06/2022\tUN 07/2022\tUN 08/2022\tUN 09/2022\tUN 10/2022\tUN 11/2022\tUN 12/2022\tCA 01/2021\tCA 02/2021\tCA 03/2021\tCA 04/2021\tCA 05/2021\tCA 06/2021\tCA 07/2021\tCA 08/2021\tCA 09/2021\tCA 10/2021\tCA 11/2021\tCA 12/2021\tCA 01/2022\tCA 02/2022\tCA 03/2022\tCA 04/2022\tCA 05/2022\tCA 06/2022\tCA 07/2022\tCA 08/2022\tCA 09/2022\tCA 10/2022\tCA 11/2022\tCA 12/2022\n",
      "L02B9\tANTAG. HORMONES CYTOSTATIQUES AUTRES\tJOHNSON&JOHNSON\tJANSSEN CILAG\t3400921749748.0\tZYTIGA 250MG CPR FL 120\tZYTIGA\t42409.0\t16.0\t2011-09-15 00:00:00\t250MG\t120.0\tL02BX03\tABIRATERONE\tABIRATERONE ACETATE 250MG CPR\tRéférent\t3.0\t3.0\t4.0\t4.0\t4.0\t4.0\t4.0\t4.0\t4.0\t4.0\t4.0\t4.0\t4.0\t3.0\t4.0\t5.0\t0.0\t0.0\t0.0\t0.0\t0.0\t0.0\t0.0\t0.0\t7952.0\t7952.0\t10602.0\t10602.0\t10602.0\t10602.0\t10602.0\t10602.0\t10602.0\t10602.0\t10602.0\t10602.0\t10602.0\t7952.0\t10602.0\t13253.0\t0.0\t0.0\t0.0\t0.0\t0.0\t0.0\t0.0\t0.0\n",
      "L02B9\tANTAG. HORMONES CYTOSTATIQUES AUTRES\tJOHNSON&JOHNSON\tJANSSEN CILAG\t3400930076279.0\tZYTIGA 500MG CPR BT 60\tZYTIGA\t213474895.0\t91997.0\t2018-01-30 00:00:00\t500MG\t60.0\tL02BX03\tABIRATERONE\tABIRATERONE ACETATE 500MG CPR PELLIC\tRéférent\t8020.0\t7429.0\t8550.0\t8215.0\t7958.0\t8441.0\t8571.0\t8005.0\t8136.0\t8315.0\t8498.0\t8697.0\t8491.0\t8062.0\t9083.0\t8727.0\t9373.0\t9324.0\t9471.0\t9583.0\t7474.0\t4966.0\t4026.0\t3417.0\t21276495.0\t19694714.0\t22665342.0\t21791049.0\t21098418.0\t22377010.0\t22736925.0\t21219920.0\t21566811.0\t22044979.0\t22526379.0\t23055456.0\t22510240.0\t21372288.0\t24087182.0\t21480439.0\t22373374.0\t22258224.0\t20007213.0\t19319786.0\t15066219.0\t10006466.0\t8110813.0\t6882651.0\n",
      "R06A\tANTIHISTAMINIQUES V.GENERALE\tUCB PHARMA\tUCB PHARMA\t3400934177002.0\tZYRTEC 10MG/ML BUV FV15ML BT 1\tZYRTEC\t121082.0\t60526.0\t1998-10-06 00:00:00\t10MG/ML\t1.0\tR06AE07\tCETIRIZINE\tCETIRIZINE DICHLORHYDRATE 10MG/ML SOL BUV GTT\tRéférent\t3437.0\t3467.0\t4502.0\t4688.0\t4154.0\t6308.0\t4542.0\t3484.0\t4043.0\t3800.0\t3854.0\t3798.0\t3444.0\t3171.0\t5036.0\t4559.0\t6024.0\t7242.0\t7614.0\t4730.0\t4754.0\t5261.0\t4222.0\t4469.0\t6875.0\t6937.0\t9006.0\t9378.0\t8309.0\t12641.0\t9084.0\t6968.0\t8088.0\t7601.0\t7711.0\t7598.0\t6889.0\t6342.0\t10076.0\t9119.0\t12049.0\t14488.0\t15228.0\t9461.0\t9511.0\t10529.0\t8446.0\t8944.0\n",
      "*/\n",
      "\n",
      "\n",
      "CREATE TABLE sexe (\n",
      "\t\"SEXE\" BIGINT, \n",
      "\t\"Libellé Sexe du Bénéficiaire\" TEXT\n",
      ")\n",
      "\n",
      "/*\n",
      "3 rows from sexe table:\n",
      "SEXE\tLibellé Sexe du Bénéficiaire\n",
      "1\tMASCULIN\n",
      "2\tFEMININ\n",
      "9\tVALEUR INCONNUE\n",
      "*/\n",
      "\n",
      "\n",
      "CREATE TABLE top_gen (\n",
      "\t\"2022\" TEXT, \n",
      "\t\"Unnamed: 1\" TEXT, \n",
      "\t\"Unnamed: 2\" FLOAT, \n",
      "\t\"de 2014 à 2021\" TEXT, \n",
      "\t\"Unnamed: 4\" TEXT\n",
      ")\n",
      "\n",
      "/*\n",
      "3 rows from top_gen table:\n",
      "2022\tUnnamed: 1\tUnnamed: 2\tde 2014 à 2021\tUnnamed: 4\n",
      "None\tNone\tNone\tNone\tNone\n",
      "TOP_GEN\tLibellé Top Générique\tNone\tTOP_GEN\tLibellé Top Générique\n",
      "0\tpas dans une famille de générique\tNone\t0\tSans Objet\n",
      "*/\n",
      "\n",
      "\n",
      "CREATE TABLE variables (\n",
      "\t\"Variable\" TEXT, \n",
      "\t\"Libellé\" TEXT, \n",
      "\t\"Unnamed: 2\" TEXT\n",
      ")\n",
      "\n",
      "/*\n",
      "3 rows from variables table:\n",
      "Variable\tLibellé\tUnnamed: 2\n",
      "None\tNone\tNone\n",
      "Médicament\tNone\tNone\n",
      "None\tNone\tNone\n",
      "*/\n",
      "\n",
      "\n",
      "CREATE TABLE xls_data (\n",
      "\t\"PSP_SPE\" FLOAT, \n",
      "\t\"Libellé Prescripteur\" TEXT, \n",
      "\t\"Unnamed: 2\" TEXT\n",
      ")\n",
      "\n",
      "/*\n",
      "3 rows from xls_data table:\n",
      "PSP_SPE\tLibellé Prescripteur\tUnnamed: 2\n",
      "None\tNone\tNone\n",
      "1.0\tMEDECINE GENERALE LIBERALE\tPRESCRIPTEURS DE VILLE\n",
      "(MEDECINS et DENTISTES)\n",
      "2.0\tANESTHESIOLOGIE - REANIMATION LIBERALE\tNone\n",
      "*/\u001b[0m\u001b[32;1m\u001b[1;3m\n",
      "Invoking: `sql_db_query_checker` with `{'query': 'SELECT \"Code EAN\" \\nFROM gers_12_2022 \\nWHERE \"Produit\" LIKE \\'%Zytiga%\\'\\nLIMIT 10;'}`\n",
      "responded: The relevant table for the Zytiga product and its EAN code is `gers_12_2022`. I will query this table to find the EAN code for the Zytiga product. \n",
      "\n",
      "The product name \"Zytiga\" is its presentation name, so I'll search for that. Here's the query I'll run:\n",
      "\n",
      "```sql\n",
      "SELECT \"Code EAN\" \n",
      "FROM gers_12_2022 \n",
      "WHERE \"Produit\" LIKE '%Zytiga%'\n",
      "LIMIT 10;\n",
      "```\n",
      "\n",
      "Now, I'll check this query before executing it.\n",
      "\n",
      "\u001b[0m\u001b[36;1m\u001b[1;3m```sql\n",
      "SELECT \"Code EAN\" \n",
      "FROM gers_12_2022 \n",
      "WHERE \"Produit\" LIKE '%Zytiga%'\n",
      "LIMIT 10;\n",
      "```\u001b[0m\u001b[32;1m\u001b[1;3m\n",
      "Invoking: `sql_db_query` with `{'query': 'SELECT \"Code EAN\" \\nFROM gers_12_2022 \\nWHERE \"Produit\" LIKE \\'%Zytiga%\\'\\nLIMIT 10;'}`\n",
      "\n",
      "\n",
      "\u001b[0m\u001b[36;1m\u001b[1;3m[(3400921749748.0,), (3400930076279.0,)]\u001b[0m\u001b[32;1m\u001b[1;3mThe EAN codes for the Zytiga product are:\n",
      "\n",
      "1. 3400921749748\n",
      "2. 3400930076279\n",
      "\n",
      "If you need further information, feel free to ask!\u001b[0m\n",
      "\n",
      "\u001b[1m> Finished chain.\u001b[0m\n"
     ]
    },
    {
     "data": {
      "text/plain": [
       "{'input': 'can you tell me the Code EAN of the Zytiga product',\n",
       " 'output': 'The EAN codes for the Zytiga product are:\\n\\n1. 3400921749748\\n2. 3400930076279\\n\\nIf you need further information, feel free to ask!'}"
      ]
     },
     "execution_count": 14,
     "metadata": {},
     "output_type": "execute_result"
    }
   ],
   "source": [
    "agent_executor.invoke({\"input\": \"can you tell me the Code EAN of the Zytiga product\"})"
   ]
  },
  {
   "cell_type": "code",
   "execution_count": null,
   "id": "82a4e9db-7a36-4def-9a1f-42667e17df1f",
   "metadata": {},
   "outputs": [],
   "source": []
  }
 ],
 "metadata": {
  "kernelspec": {
   "display_name": "yc_final 3.9 (venv)",
   "language": "python",
   "name": "venv-3.9"
  },
  "language_info": {
   "codemirror_mode": {
    "name": "ipython",
    "version": 3
   },
   "file_extension": ".py",
   "mimetype": "text/x-python",
   "name": "python",
   "nbconvert_exporter": "python",
   "pygments_lexer": "ipython3",
   "version": "3.9.20"
  }
 },
 "nbformat": 4,
 "nbformat_minor": 5
}
