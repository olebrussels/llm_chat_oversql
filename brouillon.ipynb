{
 "cells": [
  {
   "cell_type": "code",
   "execution_count": null,
   "id": "0bb97be9-df63-49d3-bf1c-1bf65e9cd122",
   "metadata": {},
   "outputs": [],
   "source": [
    "import pandas as pd\n",
    "path = ('2023_descriptif-variables_open-medic.xls')\n",
    "xl = pd.ExcelFile(path)\n",
    "print(xl.sheet_names)"
   ]
  },
  {
   "cell_type": "code",
   "execution_count": null,
   "id": "f12705f9-a519-45d3-a800-78448c9e1582",
   "metadata": {},
   "outputs": [],
   "source": [
    "import pandas as pd\n",
    "df = pd.read_csv('asmr-20240924.csv', encoding='Windows-1252', sep=';', on_bad_lines='skip')\n",
    "print(f\"Total number of columns: {df.shape[1]}\")\n",
    "print(f\"Column names: {df.columns}\")"
   ]
  },
  {
   "cell_type": "code",
   "execution_count": null,
   "id": "20ef324a-3b4f-45bd-b145-142adb6756bd",
   "metadata": {},
   "outputs": [],
   "source": [
    "import pandas as pd\n",
    "df = pd.read_csv('asmr-20240924.csv', encoding='Windows-1252', sep=';', on_bad_lines='skip')\n",
    "if df.shape[1] >= 9:  # Ensure there are at least 9 columns\n",
    "    columns_8 = df.iloc[:100, [7]]\n",
    "    print(columns_8)\n",
    "else:\n",
    "    print(\"The DataFrame has fewer than 9 columns.\")"
   ]
  },
  {
   "cell_type": "code",
   "execution_count": null,
   "id": "62e1816b-2cc3-4b9c-ae4b-d4c52021cb8f",
   "metadata": {},
   "outputs": [],
   "source": [
    "import pandas as pd\n",
    "\n",
    "df = pd.read_csv('asmr-20240924.csv', encoding='Windows-1252', sep=';', on_bad_lines='skip')\n",
    "print(df.shape)\n",
    "print(df.columns.tolist())"
   ]
  },
  {
   "cell_type": "code",
   "execution_count": null,
   "id": "463685a9-fcae-45e0-9777-6702e756e5e7",
   "metadata": {},
   "outputs": [],
   "source": [
    "import pandas as pd\n",
    "df = pd.read_csv('asmr-20240924.csv', encoding='Windows-1252', sep=';', on_bad_lines='skip')\n",
    "print(\"\\nFirst 5 rows of the DataFrame:\")\n",
    "print(df.head())"
   ]
  },
  {
   "cell_type": "code",
   "execution_count": null,
   "id": "9e3d17bc-580d-4193-9f65-e83f840b0182",
   "metadata": {},
   "outputs": [],
   "source": [
    "import pandas as pd\n",
    "\n",
    "df_csv['Valeur ASMR'] = df_csv['Valeur ASMR'].str.strip().str.upper()\n",
    "\n",
    "# Define the mapping for Roman numerals to integers\n",
    "roman_to_int = {\n",
    "    'I': 1,\n",
    "    'II': 2,\n",
    "    'III': 3,\n",
    "    'IV': 4,\n",
    "    'V': 5\n",
    "}\n",
    "\n",
    "# Assume df_csv is the DataFrame loaded from the CSV that contains the \"valeur ASMR\" column\n",
    "# Replace Roman numerals with integers\n",
    "df_csv['Valeur ASMR'] = df_csv['Valeur ASMR'].replace(roman_to_int)\n",
    "\n",
    "# Print to check the conversion\n",
    "print(df_csv[['Valeur ASMR']].head())\n",
    "print(df_csv['Valeur ASMR'].unique())"
   ]
  }
 ],
 "metadata": {
  "kernelspec": {
   "display_name": "yc_final 3.9 (venv)",
   "language": "python",
   "name": "venv-3.9"
  },
  "language_info": {
   "codemirror_mode": {
    "name": "ipython",
    "version": 3
   },
   "file_extension": ".py",
   "mimetype": "text/x-python",
   "name": "python",
   "nbconvert_exporter": "python",
   "pygments_lexer": "ipython3",
   "version": "3.9.5"
  }
 },
 "nbformat": 4,
 "nbformat_minor": 5
}
