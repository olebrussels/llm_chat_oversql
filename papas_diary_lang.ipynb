{
 "cells": [
  {
   "cell_type": "code",
   "execution_count": 1,
   "id": "aae0f3a9-4e0c-4173-b616-15f03f49f8fa",
   "metadata": {},
   "outputs": [],
   "source": [
    "import os, getpass\n",
    "def _set_env(var: str):\n",
    "    if not os.environ.get(var):\n",
    "        os.environ[var] = getpass.getpass(f\"{var}: \")\n",
    "\n",
    "# Alias _set_env to set_env\n",
    "set_env = _set_env\n",
    "\n",
    "set_env(\"OPENAI_API_KEY\")"
   ]
  },
  {
   "cell_type": "code",
   "execution_count": 2,
   "id": "15383584",
   "metadata": {},
   "outputs": [],
   "source": [
    "_set_env(\"LANGSMITH_API_KEY\")\n",
    "os.environ[\"LANGCHAIN_TRACING_V2\"] = \"true\"\n",
    "os.environ[\"LANGCHAIN_PROJECT\"] = \"diary\""
   ]
  },
  {
   "cell_type": "code",
   "execution_count": 3,
   "id": "6637a3b5",
   "metadata": {},
   "outputs": [],
   "source": [
    "from langgraph.checkpoint.memory import MemorySaver\n",
    "from langgraph.graph import MessagesState\n",
    "from langgraph.graph import START, StateGraph\n",
    "\n",
    "\n",
    "from langchain_core.messages import AIMessage, HumanMessage, SystemMessage"
   ]
  },
  {
   "cell_type": "code",
   "execution_count": 1,
   "id": "0700dd50-1dcc-4a0f-b773-fead95292136",
   "metadata": {},
   "outputs": [
    {
     "name": "stdout",
     "output_type": "stream",
     "text": [
      "sqlite\n",
      "['diary_entries']\n"
     ]
    }
   ],
   "source": [
    "from langchain_community.utilities import SQLDatabase\n",
    "\n",
    "db = SQLDatabase.from_uri(\"sqlite:///diary.db\")\n",
    "print(db.dialect)\n",
    "print(db.get_usable_table_names())"
   ]
  },
  {
   "cell_type": "code",
   "execution_count": 3,
   "id": "a3d9012d",
   "metadata": {},
   "outputs": [
    {
     "name": "stdout",
     "output_type": "stream",
     "text": [
      "['[', '(', '8', '0', ',', ')', ',', ' ', '(', '6', '7', ',', ')', ',', ' ', '(', '5', '3', ',', ')', ',', ' ', '(', '5', '7', ',', ')', ',', ' ', '(', '9', '3', ',', ')', ',', ' ', '(', '9', '4', ',', ')', ',', ' ', '(', '7', '2', ',', ')', ',', ' ', '(', '1', '0', '2', ',', ')', ',', ' ', '(', '4', '4', ',', ')', ',', ' ', '(', '7', '5', ',', ')', ',', ' ', '(', '4', '1', ',', ')', ',', ' ', '(', '8', '3', ',', ')', ',', ' ', '(', '1', '0', ',', ')', ',', ' ', '(', '5', '6', ',', ')', ',', ' ', '(', '5', '1', ',', ')', ',', ' ', '(', '4', '9', ',', ')', ',', ' ', '(', '4', '6', ',', ')', ',', ' ', '(', '6', '3', ',', ')', ',', ' ', '(', '1', ',', ')', ',', ' ', '(', '1', '7', ',', ')', ',', ' ', '(', '4', '8', ',', ')', ',', ' ', '(', '2', '7', ',', ')', ',', ' ', '(', '1', '5', ',', ')', ',', ' ', '(', '8', '8', ',', ')', ',', ' ', '(', '8', '6', ',', ')', ',', ' ', '(', '1', '1', ',', ')', ',', ' ', '(', '9', '7', ',', ')', ',', ' ', '(', '3', '5', ',', ')', ',', ' ', '(', '9', '2', ',', ')', ',', ' ', '(', '5', '0', ',', ')', ',', ' ', '(', '7', '9', ',', ')', ',', ' ', '(', '2', '8', ',', ')', ',', ' ', '(', '3', ',', ')', ',', ' ', '(', '3', '6', ',', ')', ',', ' ', '(', '1', '4', ',', ')', ',', ' ', '(', '4', '3', ',', ')', ',', ' ', '(', '2', '0', ',', ')', ',', ' ', '(', '3', '0', ',', ')', ',', ' ', '(', '5', ',', ')', ',', ' ', '(', '9', '0', ',', ')', ',', ' ', '(', '7', '7', ',', ')', ',', ' ', '(', '1', '8', ',', ')', ',', ' ', '(', '2', '5', ',', ')', ',', ' ', '(', '7', '3', ',', ')', ',', ' ', '(', '4', '2', ',', ')', ',', ' ', '(', '7', ',', ')', ',', ' ', '(', '2', '2', ',', ')', ',', ' ', '(', '4', ',', ')', ',', ' ', '(', '6', '2', ',', ')', ',', ' ', '(', '5', '8', ',', ')', ',', ' ', '(', '3', '3', ',', ')', ',', ' ', '(', '3', '4', ',', ')', ',', ' ', '(', '8', '7', ',', ')', ',', ' ', '(', '7', '1', ',', ')', ',', ' ', '(', '1', '0', '0', ',', ')', ',', ' ', '(', '1', '2', ',', ')', ',', ' ', '(', '3', '9', ',', ')', ',', ' ', '(', '1', '0', '1', ',', ')', ',', ' ', '(', '8', '1', ',', ')', ',', ' ', '(', '6', '4', ',', ')', ',', ' ', '(', '9', '8', ',', ')', ',', ' ', '(', '8', '2', ',', ')', ',', ' ', '(', '8', '4', ',', ')', ',', ' ', '(', '6', ',', ')', ',', ' ', '(', '7', '8', ',', ')', ',', ' ', '(', '9', '1', ',', ')', ',', ' ', '(', '5', '4', ',', ')', ',', ' ', '(', '8', '9', ',', ')', ',', ' ', '(', '9', '9', ',', ')', ',', ' ', '(', '3', '1', ',', ')', ',', ' ', '(', '6', '1', ',', ')', ',', ' ', '(', '6', '9', ',', ')', ',', ' ', '(', '6', '6', ',', ')', ',', ' ', '(', '7', '6', ',', ')', ',', ' ', '(', '4', '5', ',', ')', ',', ' ', '(', '7', '0', ',', ')', ',', ' ', '(', '2', '9', ',', ')', ',', ' ', '(', '1', '9', ',', ')', ',', ' ', '(', '8', '5', ',', ')', ',', ' ', '(', '1', '6', ',', ')', ',', ' ', '(', '1', '3', ',', ')', ',', ' ', '(', '9', '5', ',', ')', ',', ' ', '(', '9', '6', ',', ')', ',', ' ', '(', '4', '7', ',', ')', ',', ' ', '(', '4', '0', ',', ')', ',', ' ', '(', '5', '9', ',', ')', ',', ' ', '(', '6', '8', ',', ')', ',', ' ', '(', '6', '5', ',', ')', ',', ' ', '(', '2', '1', ',', ')', ',', ' ', '(', '5', '5', ',', ')', ',', ' ', '(', '3', '7', ',', ')', ',', ' ', '(', '9', ',', ')', ',', ' ', '(', '2', '4', ',', ')', ',', ' ', '(', '3', '2', ',', ')', ',', ' ', '(', '8', ',', ')', ',', ' ', '(', '2', '3', ',', ')', ',', ' ', '(', '2', ',', ')', ',', ' ', '(', '7', '4', ',', ')', ',', ' ', '(', '1', '0', '8', ',', ')', ',', ' ', '(', '5', '2', ',', ')', ',', ' ', '(', '3', '8', ',', ')', ',', ' ', '(', '6', '0', ',', ')', ',', ' ', '(', '2', '6', ',', ')', ',', ' ', '(', '1', '0', '4', ',', ')', ',', ' ', '(', '1', '0', '6', ',', ')', ',', ' ', '(', '1', '0', '3', ',', ')', ',', ' ', '(', '1', '0', '7', ',', ')', ',', ' ', '(', '1', '0', '5', ',', ')', ',', ' ', '(', '1', '1', '1', ',', ')', ',', ' ', '(', '1', '1', '0', ',', ')', ',', ' ', '(', '1', '1', '3', ',', ')', ',', ' ', '(', '1', '1', '4', ',', ')', ',', ' ', '(', '1', '0', '9', ',', ')', ',', ' ', '(', '1', '1', '5', ',', ')', ',', ' ', '(', '1', '1', '2', ',', ')', ',', ' ', '(', '1', '2', '2', ',', ')', ',', ' ', '(', '1', '1', '9', ',', ')', ',', ' ', '(', '1', '2', '1', ',', ')', ',', ' ', '(', '1', '1', '7', ',', ')', ',', ' ', '(', '1', '1', '6', ',', ')', ',', ' ', '(', '1', '2', '3', ',', ')', ',', ' ', '(', '1', '2', '0', ',', ')', ',', ' ', '(', '1', '1', '8', ',', ')', ',', ' ', '(', '1', '3', '2', ',', ')', ',', ' ', '(', '1', '2', '7', ',', ')', ',', ' ', '(', '1', '2', '4', ',', ')', ',', ' ', '(', '1', '3', '1', ',', ')', ',', ' ', '(', '1', '3', '0', ',', ')', ',', ' ', '(', '1', '2', '6', ',', ')', ',', ' ', '(', '1', '2', '9', ',', ')', ',', ' ', '(', '1', '2', '5', ',', ')', ',', ' ', '(', '1', '2', '8', ',', ')', ']']\n"
     ]
    }
   ],
   "source": [
    "result = db.run(\"SELECT id FROM diary_entries;\")\n",
    "entry_ids = [row[0] for row in result]\n",
    "print(entry_ids)"
   ]
  },
  {
   "cell_type": "code",
   "execution_count": null,
   "id": "86a7ab09",
   "metadata": {},
   "outputs": [],
   "source": [
    "from langchain_community.utilities import SQLDatabase\n",
    "from IPython.display import display\n",
    "\n",
    "\n",
    "db = SQLDatabase.from_uri(\"sqlite:///diary.db\")\n",
    "result = db.run(\"SELECT content FROM diary_entries WHERE id = 42;\")\n",
    "print(type(result[0]))\n",
    "print(len(result[0]))\n",
    "content = result[0][0]\n",
    "print(content)"
   ]
  },
  {
   "cell_type": "code",
   "execution_count": 5,
   "id": "409472d9",
   "metadata": {},
   "outputs": [],
   "source": [
    "from sqlalchemy import create_engine  # Import create_engine\n",
    "from sqlalchemy.orm import sessionmaker\n",
    "from create_diary_schema import DiaryEntry\n",
    "\n",
    "# Connect to the SQLite database\n",
    "engine = create_engine(\"sqlite:///diary.db\")\n",
    "Session = sessionmaker(bind=engine)\n",
    "session = Session()\n",
    "\n"
   ]
  },
  {
   "cell_type": "code",
   "execution_count": 6,
   "id": "d96647f4-2e40-4c77-a2b3-fb14e6da1b2a",
   "metadata": {},
   "outputs": [],
   "source": [
    "\n",
    "\n",
    "from langchain.chat_models import init_chat_model\n",
    "\n",
    "llm = init_chat_model(\"gpt-4o-mini\", model_provider=\"openai\")"
   ]
  },
  {
   "cell_type": "code",
   "execution_count": 7,
   "id": "4ba61d0e-e1ac-44f4-a3dc-9e39391e4099",
   "metadata": {},
   "outputs": [],
   "source": [
    "from typing_extensions import TypedDict\n",
    "\n",
    "\n",
    "class State(TypedDict):\n",
    "    question: str\n",
    "    query: str\n",
    "    result: str\n",
    "    answer: str"
   ]
  },
  {
   "cell_type": "code",
   "execution_count": 10,
   "id": "165b1aae",
   "metadata": {},
   "outputs": [
    {
     "name": "stdout",
     "output_type": "stream",
     "text": [
      "================================\u001b[1m System Message \u001b[0m================================\n",
      "\n",
      "Given an input question, create a syntactically correct \u001b[33;1m\u001b[1;3m{dialect}\u001b[0m query to run to help find the answer. Unless the user specifies in his question a specific number of examples they wish to obtain, always limit your query to at most \u001b[33;1m\u001b[1;3m{top_k}\u001b[0m results. You can order the results by a relevant column to return the most interesting examples in the database.\n",
      "\n",
      "Never query for all the columns from a specific table, only ask for a the few relevant columns given the question.\n",
      "\n",
      "Pay attention to use only the column names that you can see in the schema description. Be careful to not query for columns that do not exist. Also, pay attention to which column is in which table.\n",
      "\n",
      "Only use the following tables:\n",
      "\u001b[33;1m\u001b[1;3m{table_info}\u001b[0m\n",
      "================================\u001b[1m Human Message \u001b[0m=================================\n",
      "\n",
      "Question: \u001b[33;1m\u001b[1;3m{input}\u001b[0m\n"
     ]
    }
   ],
   "source": [
    "from langchain import hub\n",
    "\n",
    "query_prompt_template = hub.pull(\"langchain-ai/sql-query-system-prompt\")\n",
    "\n",
    "assert len(query_prompt_template.messages) == 2\n",
    "for message in query_prompt_template.messages:\n",
    "    message.pretty_print()"
   ]
  },
  {
   "cell_type": "code",
   "execution_count": 11,
   "id": "1c8e6f42",
   "metadata": {},
   "outputs": [],
   "source": [
    "from typing_extensions import Annotated\n",
    "\n",
    "\n",
    "class QueryOutput(TypedDict):\n",
    "    \"\"\"Generated SQL query.\"\"\"\n",
    "\n",
    "    query: Annotated[str, ..., \"Syntactically valid SQL query.\"]\n",
    "\n",
    "\n",
    "def write_query(state: State):\n",
    "    \"\"\"Generate SQL query to fetch information.\"\"\"\n",
    "    prompt = query_prompt_template.invoke(\n",
    "        {\n",
    "            \"dialect\": db.dialect,\n",
    "            \"top_k\": 10,\n",
    "            \"table_info\": db.get_table_info(),\n",
    "            \"input\": state[\"question\"],\n",
    "        }\n",
    "    )\n",
    "    structured_llm = llm.with_structured_output(QueryOutput)\n",
    "    result = structured_llm.invoke(prompt)\n",
    "    return {\"query\": result[\"query\"]}"
   ]
  },
  {
   "cell_type": "code",
   "execution_count": 10,
   "id": "c44e3ef1",
   "metadata": {},
   "outputs": [
    {
     "data": {
      "text/plain": [
       "{'query': 'SELECT date FROM diary_entries ORDER BY date ASC LIMIT 1;'}"
      ]
     },
     "execution_count": 10,
     "metadata": {},
     "output_type": "execute_result"
    }
   ],
   "source": [
    "write_query({\"question\": \"when was the first entry?\"})"
   ]
  },
  {
   "cell_type": "code",
   "execution_count": 12,
   "id": "66331589",
   "metadata": {},
   "outputs": [],
   "source": [
    "from langchain_community.tools.sql_database.tool import QuerySQLDatabaseTool\n",
    "\n",
    "\n",
    "def execute_query(state: State):\n",
    "    \"\"\"Execute SQL query.\"\"\"\n",
    "    execute_query_tool = QuerySQLDatabaseTool(db=db)\n",
    "    return {\"result\": execute_query_tool.invoke(state[\"query\"])}"
   ]
  },
  {
   "cell_type": "code",
   "execution_count": 13,
   "id": "a7ef4b09",
   "metadata": {},
   "outputs": [
    {
     "data": {
      "text/plain": [
       "{'result': '[(123,)]'}"
      ]
     },
     "execution_count": 13,
     "metadata": {},
     "output_type": "execute_result"
    }
   ],
   "source": [
    "execute_query({\"query\": \"SELECT COUNT(*) AS total_entries FROM diary_entries;\"})"
   ]
  },
  {
   "cell_type": "code",
   "execution_count": 14,
   "id": "a86d2b14",
   "metadata": {},
   "outputs": [],
   "source": [
    "def generate_answer(state: State):\n",
    "    \"\"\"Answer question using retrieved information as context.\"\"\"\n",
    "    prompt = (\n",
    "        \"Given the following user question, corresponding SQL query, \"\n",
    "        \"and SQL result, answer the user question.\\n\\n\"\n",
    "        f'Question: {state[\"question\"]}\\n'\n",
    "        f'SQL Query: {state[\"query\"]}\\n'\n",
    "        f'SQL Result: {state[\"result\"]}'\n",
    "    )\n",
    "    response = llm.invoke(prompt)\n",
    "    return {\"answer\": response.content}"
   ]
  },
  {
   "cell_type": "code",
   "execution_count": null,
   "id": "4e5c21ee",
   "metadata": {},
   "outputs": [
    {
     "name": "stderr",
     "output_type": "stream",
     "text": [
      "\u001b[1;36m[ 3][t 0][1748336255.190163135][Client.cpp:600]\tCreate client 1\u001b[0m\n",
      "\u001b[1;36m[ 3][t 0][1748336255.190871000][Client.cpp:383]\tInitialize client 1\u001b[0m\n"
     ]
    }
   ],
   "source": []
  },
  {
   "cell_type": "code",
   "execution_count": null,
   "id": "00a8d48e",
   "metadata": {},
   "outputs": [
    {
     "name": "stderr",
     "output_type": "stream",
     "text": [
      "\u001b[1;33m[ 2][t 1][1748336277.140146493][TdDb.cpp:431][#1][!RunOnSchedulerWorker]\tSet PRAGMA user_version = 14\u001b[0m\n",
      "\u001b[1;33m[ 2][t 4][1748336277.212634325][AuthDataShared.cpp:118][#1][!Td]\tDcId{1} [auth_key_id:0][state:Empty][created_at:0][last_used:0]\u001b[0m\n",
      "\u001b[1;33m[ 2][t 4][1748336277.244915962][Session.cpp:271][#1][!SessionProxy:1:main]\tGenerate new session_id 557482465005366575 for auth key 0 for main DC1\u001b[0m\n",
      "\u001b[1;33m[ 2][t 4][1748336279.071942329][AuthDataShared.cpp:118][#1][!Session:1:main]\tDcId{1} [auth_key_id:10962126741091629487][state:NoAuth][created_at:1748336277][last_used:0]\u001b[0m\n",
      "\u001b[1;33m[ 2][t 4][1748336279.071984529][Session.cpp:1422][#1][!Session:1:main]\tUpdate auth key in session_id 557482465005366575 to 10962126741091629487\u001b[0m\n",
      "\u001b[1;33m[ 2][t 4][1748336279.213337182][AuthDataShared.cpp:118][#1][!Session:1:main]\tDcId{4} [auth_key_id:0][state:Empty][created_at:0][last_used:0]\u001b[0m\n",
      "\u001b[1;33m[ 2][t 4][1748336279.213464260][Session.cpp:271][#1][!SessionProxy:4:main]\tGenerate new session_id 10432578586350594695 for auth key 0 for main DC4\u001b[0m\n",
      "\u001b[1;33m[ 2][t 4][1748336280.165082216][AuthDataShared.cpp:118][#1][!Session:4:main]\tDcId{4} [auth_key_id:1873908884052671336][state:NoAuth][created_at:1748336279][last_used:0]\u001b[0m\n",
      "\u001b[1;33m[ 2][t 4][1748336280.165108919][Session.cpp:1422][#1][!Session:4:main]\tUpdate auth key in session_id 10432578586350594695 to 1873908884052671336\u001b[0m\n",
      "\u001b[1;33m[ 2][t 4][1748336290.830211639][AuthDataShared.cpp:118][#1][!Session:4:main]\tDcId{4} [auth_key_id:1873908884052671336][state:OK][created_at:1748336279][last_used:1748453279]\u001b[0m\n"
     ]
    },
    {
     "data": {
      "text/plain": [
       "<AuthorizationState.READY: 'authorizationStateReady'>"
      ]
     },
     "execution_count": 16,
     "metadata": {},
     "output_type": "execute_result"
    },
    {
     "name": "stderr",
     "output_type": "stream",
     "text": [
      "\u001b[1;33m[ 2][t 4][1748336291.029930353][Session.cpp:271][#1][!SessionProxy:1:main]\tGenerate new session_id 6860984753190734267 for auth key 10962126741091629487 for DC1\u001b[0m\n",
      "\u001b[1;33m[ 2][t 4][1748336291.339917659][AuthDataShared.cpp:118][#1][!Session:1:main]\tDcId{1} [auth_key_id:10962126741091629487][state:OK][created_at:1748336277][last_used:1748453278]\u001b[0m\n"
     ]
    }
   ],
   "source": [
    "tg.login()"
   ]
  },
  {
   "cell_type": "code",
   "execution_count": 17,
   "id": "1d9e3952",
   "metadata": {},
   "outputs": [
    {
     "name": "stdout",
     "output_type": "stream",
     "text": [
      "{'@type': 'chats', 'total_count': 94, 'chat_ids': [777000, -1001619831579, 6822025926, 7640364545, 57098707, -4762585149, 7846382525, 1771869684, 7816829551, -1002340503783, 7954296876, 1241442881, 7069489447, 8078951456, 7801784533, -857213611, 7595113840, -1001895831685, 735511181, 7712627342, 7120032145, 7870468219, 6597325114, 7591611458, 7672348965, -4017208805, 7662181205, -4150664340, 7945116301, 1144008385, 6163574533, 7878237007, 6758663599, 7129916042, 7525131981, 7401048146, 7127173154, 7152100632, 7019764895, 7298823424, 7247728024, 6381639412, 7076346379, 7176466021, 7028967332, 7192362684, 7084784023, 7106241006, 1318953231, 7150614755, 889765482, 7197974963, 7056847755, 6441630674, 6952861107, 1530754544, 6856322095, 6633835366, 6976665394, 6686797836, 6709461690, 6533868226, 6943892037, 6772438286, -4014980841, -4081098759, 6678459433, 6638828584, 6505532685, 6414335330, 6764866171, 6454772031, 6928544385, 6663733510, 6531836133, 6465153473, 6631804287, 6622357982, 6097187659, 1097152571, 6493846692, 6631633135, 6379008982, 5946405269, 6183973075, 6137483622, 1423978801, 5742266069, 773921122, 5888167752, 6183535329, 6236239477, 5817967907, 1004114443], '@extra': {'request_id': '4ecb241d72044ab486668717ed86559c'}}\n"
     ]
    }
   ],
   "source": [
    "result = tg.get_chats()\n",
    "result.wait()\n",
    "print(result.update)\n"
   ]
  },
  {
   "cell_type": "code",
   "execution_count": null,
   "id": "b2d2231e",
   "metadata": {},
   "outputs": [
    {
     "data": {
      "text/plain": [
       "<telegram.utils.AsyncResult at 0x7f24a428a190>"
      ]
     },
     "execution_count": 17,
     "metadata": {},
     "output_type": "execute_result"
    }
   ],
   "source": [
    "#chat_id = -4762585149\n",
    "\n",
    "#tg.send_message(\n",
    "#            chat_id=chat_id,\n",
    "#            text='test',\n",
    "        )\n"
   ]
  },
  {
   "cell_type": "code",
   "execution_count": 18,
   "id": "ed0c086a",
   "metadata": {},
   "outputs": [],
   "source": [
    "def post_to_telegram(state: State):\n",
    "    \"\"\"Post the generated answer to Telegram.\"\"\"\n",
    "    chat_id = -4762585149 # Replace with the desired chat ID\n",
    "    message = state[\"answer\"]  # Use the answer from the state\n",
    "    try:\n",
    "        tg.send_message(chat_id=chat_id, text=message)\n",
    "        return {\"answer\": state[\"answer\"], \"status\": \"Message sent\"}  # Update the state\n",
    "    except Exception as e:\n",
    "        return {\"answer\": state[\"answer\"], \"status\": f\"Failed to send message: {str(e)}\"}  # Update the state"
   ]
  },
  {
   "cell_type": "code",
   "execution_count": 19,
   "id": "cb955136",
   "metadata": {},
   "outputs": [],
   "source": [
    "from langgraph.graph import START, StateGraph\n",
    "\n",
    "workflow = StateGraph(State)\n",
    "workflow.add_node(\"write_query\", write_query)\n",
    "workflow.add_node(\"execute_query\", execute_query)\n",
    "workflow.add_node(\"generate_answer\", generate_answer)\n",
    "workflow.add_node(\"post_to_telegram\", post_to_telegram)  # Add the new node\n",
    "\n",
    "workflow.add_edge(START, \"write_query\")\n",
    "workflow.add_edge(\"write_query\", \"execute_query\")\n",
    "workflow.add_edge(\"execute_query\", \"generate_answer\")\n",
    "workflow.add_edge(\"generate_answer\", \"post_to_telegram\")  # Connect the new node\n",
    "\n",
    "memory = MemorySaver()\n",
    "\n",
    "graph = workflow.compile(interrupt_before=[\"post_to_telegram\"], checkpointer=memory)\n"
   ]
  },
  {
   "cell_type": "code",
   "execution_count": null,
   "id": "cdf412aa",
   "metadata": {},
   "outputs": [
    {
     "name": "stderr",
     "output_type": "stream",
     "text": [
      "\u001b[1;33m[ 2][t 4][1747319008.432404518][AuthDataShared.cpp:118][#1][!Session:1:main]\tDcId{1} [auth_key_id:5306460131041795999][state:OK][created_at:1747318991][last_used:1747435992]\u001b[0m\n"
     ]
    },
    {
     "name": "stdout",
     "output_type": "stream",
     "text": [
      "Chunk Metadata Overview:\n",
      "write_query: <class 'dict'>\n",
      "Detailed Chunk Content:\n",
      "{'write_query': {'query': \"SELECT id, date FROM diary_entries WHERE content='hi i am manuel, the owner of the diary' LIMIT 10;\"}}\n",
      "Chunk Metadata Overview:\n",
      "execute_query: <class 'dict'>\n",
      "Detailed Chunk Content:\n",
      "{'execute_query': {'result': ''}}\n",
      "Chunk Metadata Overview:\n",
      "generate_answer: <class 'dict'>\n",
      "Detailed Chunk Content:\n",
      "{'generate_answer': {'answer': 'The SQL result has not been provided, but based on the user question and SQL query, if the query has returned results, it would indicate that there exists a diary entry with the exact content \"hi i am manuel, the owner of the diary.\" \\n\\nIf there are results, you can answer the user with the relevant id and date of the diary entry. If there are no results, then you would inform the user that there are no entries that match the provided content. \\n\\nWould you like to specify the results to get a more detailed response?'}}\n",
      "Chunk Metadata Overview:\n",
      "__interrupt__: <class 'tuple'>\n",
      "Detailed Chunk Content:\n",
      "{'__interrupt__': ()}\n"
     ]
    }
   ],
   "source": [
    "# Configuration\n",
    "#config = {\"configurable\": {\"thread_id\": \"3\"}}\n",
    "\n",
    "#initial_input = {\"question\": HumanMessage(content=\"hi i am manuel, the owner of the diary\")}\n",
    "\n",
    "#for chunk in graph.stream(initial_input, config, stream_mode=\"updates\"):\n",
    "#    print(\"Chunk Metadata Overview:\")\n",
    "#    for key, value in chunk.items():\n",
    "#        print(f\"{key}: {type(value)}\")\n",
    "#    print(\"Detailed Chunk Content:\")\n",
    "#    print(chunk)\n",
    "\n",
    "# Stream updates\n",
    "#for chunk in graph.stream(initial_input, config, stream_mode=\"values\"):\n",
    "#    chunk[\"answer\"].pretty_print()\n",
    "#    print(chunk)\n",
    "\n"
   ]
  },
  {
   "cell_type": "code",
   "execution_count": 26,
   "id": "d0dab120",
   "metadata": {},
   "outputs": [
    {
     "name": "stdout",
     "output_type": "stream",
     "text": [
      "{'write_query': {'query': \"SELECT content FROM diary_entries WHERE date = '2025-05-12' LIMIT 10;\"}}\n",
      "{'execute_query': {'result': \"[('Every day. The song of the clock, of the bell of the Church of Bridgetines, which is close to high place, reminds me of my committed to ground. Stop traveling with my heads and go into the concrete. Connect with real people with real problems, try to solve them. Stop dreaming and the biggest...',)]\"}}\n",
      "Generated Answer:\n",
      "Hoy he estado reflexionando mucho. El sonido del reloj y de la campana de la iglesia me recuerda lo importante que es conectar con la realidad y con la gente que realmente tiene problemas. He decidido dejar de soñar tanto y centrarme en lo que tengo aquí y ahora. Es un buen momento para comprometerme con lo que realmente importa.\n",
      "{'generate_answer': {'answer': 'Hoy he estado reflexionando mucho. El sonido del reloj y de la campana de la iglesia me recuerda lo importante que es conectar con la realidad y con la gente que realmente tiene problemas. He decidido dejar de soñar tanto y centrarme en lo que tengo aquí y ahora. Es un buen momento para comprometerme con lo que realmente importa.'}}\n",
      "{'__interrupt__': ()}\n",
      "Operation cancelled by user.\n"
     ]
    }
   ],
   "source": [
    "# Configuration\n",
    "config = {\"configurable\": {\"thread_id\": \"34\"}}\n",
    "\n",
    "initial_input = {\n",
    "    \"question\": HumanMessage(\n",
    "        content=(\n",
    "            \"you are a diary drafting assistant with access to my diary entries. \"\n",
    "          \"please send an update of what happened to me on may 12 2025 only\"\n",
    "            \"please speak as if you were me and you are speaking directly to my parents. \"\n",
    "            \"please use colloquial spanish from spain. \"\n",
    "            \"do not include any syntactic construction from latin american spanish. \"\n",
    "            \"please do not mention any dates in the message, just speak as if it is today. \"\n",
    "            \"do not include an introduction sentence. this is going to be a telegram message.\"\n",
    "        )\n",
    "    )\n",
    "}\n",
    "\n",
    "# Stream through the graph until the interrupt\n",
    "for step in graph.stream(initial_input, config, stream_mode=\"updates\"):\n",
    "    if \"generate_answer\" in step:  # Check if the generate_answer node is reached\n",
    "        print(\"Generated Answer:\")\n",
    "        print(step[\"generate_answer\"][\"answer\"])  # Display the answer to the user\n",
    "    print(step)\n",
    "\n",
    "# Ask for user approval to send the message\n",
    "user_approval = input(\"Do you want to send this answer to Telegram? (yes/no): \")\n",
    "\n",
    "# Check user approval\n",
    "if user_approval.lower() == \"yes\":\n",
    "    # Continue the graph execution to send the message\n",
    "    for step in graph.stream(None, config, stream_mode=\"values\"):\n",
    "        if \"post_to_telegram\" in step:  # Check if the post_to_telegram node is reached\n",
    "            print(\"Message sent to Telegram.\")\n",
    "else:\n",
    "    print(\"Operation cancelled by user.\")\n",
    "\n"
   ]
  },
  {
   "cell_type": "code",
   "execution_count": null,
   "id": "4071b4e0",
   "metadata": {},
   "outputs": [],
   "source": [
    " \"you are a diary drafting assistant with access to my diary entries. \"\n",
    "            \"You are also my therapeutic agent \"\n",
    "    \n",
    "            \"Your approach combines elements of cognitive behavioral therapy (CBT) and socratic questioning. \"\n",
    "            \"You will help me explore my thoughts without judgment, identify cognitive patterns, and challenge \"\n",
    "            \"assumptions that might be limiting my growth. \"\n",
    "            \"i would like you to send life updates to my parents in spanish. \"\n",
    "            \"please use some facts of things i have done in may 18 2025. \"\n",
    "            \"draft a message summarizing what is going on in my life based on the latest diary entries. \"\n",
    "            \"please only use the content of the entries to generate the answer. \"\n",
    "            \"do not include any system message nor AI message in the generated answer, just the content of the entries. \"\n",
    "            \"do not include capital letters in the message. \"\n",
    "            \"do make 1 mistake in spelling in the message. \"\n",
    "            \"please speak as if you were me and you are speaking directly to my parents. \"\n",
    "            \"please use colloquial spanish from spain. \"\n",
    "            \"do not include any syntactic construction from latin american spanish. \"\n",
    "            \"please do not mention any dates in the message, just speak as if it is today. \"\n",
    "            \"do not include an introduction sentence. this is going to be a telegram message.\""
   ]
  }
 ],
 "metadata": {
  "kernelspec": {
   "display_name": "yc_final 3.9 (venv)",
   "language": "python",
   "name": "venv-3.9"
  },
  "language_info": {
   "codemirror_mode": {
    "name": "ipython",
    "version": 3
   },
   "file_extension": ".py",
   "mimetype": "text/x-python",
   "name": "python",
   "nbconvert_exporter": "python",
   "pygments_lexer": "ipython3",
   "version": "3.9.20"
  }
 },
 "nbformat": 4,
 "nbformat_minor": 5
}
