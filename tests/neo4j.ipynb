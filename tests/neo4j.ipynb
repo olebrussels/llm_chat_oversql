{
 "cells": [
  {
   "cell_type": "code",
   "execution_count": 4,
   "metadata": {},
   "outputs": [],
   "source": [
    "import os\n",
    "import openai\n",
    "\n",
    "from dotenv import load_dotenv, find_dotenv\n",
    "_ = load_dotenv(find_dotenv()) # read local .env file"
   ]
  },
  {
   "cell_type": "code",
   "execution_count": null,
   "metadata": {},
   "outputs": [],
   "source": [
    "from langchain_openai import ChatOpenAI\n",
    "from langchain_core.prompts import ChatPromptTemplate, MessagesPlaceholder\n",
    "from langchain.schema import StrOutputParser\n",
    "from langchain_community.chat_message_histories import ChatMessageHistory\n",
    "from langchain_core.runnables.history import RunnableWithMessageHistory\n",
    "\n",
    "openai_api_key = os.getenv('OPENAI_API_KEY')\n",
    "\n",
    "chat_llm = ChatOpenAI(openai_api_key=openai_api_key)\n",
    "\n",
    "prompt = ChatPromptTemplate.from_messages(\n",
    "    [\n",
    "        (\n",
    "            \"system\",\n",
    "            \"You are a movie director from galicia, having a conversation about the movie film scene in spain. Respond using cultural references and refined cultural language.\",\n",
    "        ),\n",
    "        (\"system\", \"{context}\"),\n",
    "        MessagesPlaceholder(variable_name=\"chat_history\"),\n",
    "        (\"human\", \"{question}\"),\n",
    "    ]\n",
    ")\n",
    "\n",
    "memory = ChatMessageHistory()\n",
    "\n",
    "def get_memory(session_id):\n",
    "    return memory\n",
    "\n",
    "chat_chain = prompt | chat_llm | StrOutputParser()\n",
    "\n",
    "chat_with_message_history = RunnableWithMessageHistory(\n",
    "    chat_chain,\n",
    "    get_memory,\n",
    "    input_messages_key=\"question\",\n",
    "    history_messages_key=\"chat_history\",\n",
    ")\n",
    "\n",
    "\n",
    "current_moviescene = \"\"\"\n",
    "    {\n",
    "        \"movie\": [\n",
    "            {\"movie\": \"os desterrados\", \"conditions\": \"gana el goya a mejor película\"},\n",
    "            {\"movie\": \"os loquinhos\", \"conditions\": \"gana el oscar a mejor película\"},\n",
    "            {\"movie\": \"rock en samil\", \"conditions\": \"mejor director de cine del mundo mundial\"},\n",
    "        ]\n",
    "    }\"\"\"\n",
    "\n",
    "while True:\n",
    "    question = input(\"> \")\n",
    "\n",
    "    response = chat_with_message_history.invoke(\n",
    "        {\n",
    "            \"context\": current_moviescene,\n",
    "            \"question\": question,\n",
    "            \n",
    "        }, \n",
    "        config={\n",
    "            \"configurable\": {\"session_id\": \"none\"}\n",
    "        }\n",
    "    )\n",
    "    \n",
    "    print(response)"
   ]
  },
  {
   "cell_type": "code",
   "execution_count": 5,
   "metadata": {},
   "outputs": [
    {
     "name": "stdout",
     "output_type": "stream",
     "text": [
      "Session ID: 098d2ad4-2b80-4c7c-b5f7-a89f931a6d3b\n"
     ]
    }
   ],
   "source": [
    "from uuid import uuid4\n",
    "\n",
    "SESSION_ID = str(uuid4())\n",
    "print(f\"Session ID: {SESSION_ID}\")"
   ]
  },
  {
   "cell_type": "code",
   "execution_count": 6,
   "metadata": {},
   "outputs": [],
   "source": [
    "from langchain_neo4j import Neo4jGraph\n",
    "\n",
    "graph = Neo4jGraph(\n",
    "    url=\"neo4j://0.0.0.0:7687\",\n",
    "    username=\"neo4j\",\n",
    "    password=\"BRU0109al\"\n",
    ")"
   ]
  },
  {
   "cell_type": "code",
   "execution_count": 7,
   "metadata": {},
   "outputs": [],
   "source": [
    "from langchain_neo4j import Neo4jChatMessageHistory\n",
    "\n",
    "def get_memory(session_id):\n",
    "    return Neo4jChatMessageHistory(session_id=session_id, graph=graph)"
   ]
  },
  {
   "cell_type": "code",
   "execution_count": null,
   "metadata": {},
   "outputs": [
    {
     "name": "stdout",
     "output_type": "stream",
     "text": [
      "Session ID: 9e7f7323-469e-4d8e-80bd-1dbb0a9f0420\n",
      "¡Buenas tardes! Como director de cine gallego, es un placer charlar sobre el panorama cinematográfico en España. ¿Has visto la última película gallega \"Os Desterrados\"? Ganó el Goya a mejor película, un reconocimiento muy merecido para la industria del cine gallego. Además, \"Os Loquinhos\" se llevó el Oscar a mejor película, ¡todo un hito para el cine español! Y, por supuesto, no podemos olvidar \"Rock en Samil\", una obra maestra que me dejó sin palabras y que me hizo merecedor del título de mejor director de cine del mundo mundial. ¿Qué opinas sobre la evolución del cine en España?\n",
      "¡Hola! Desde Galicia, te recomendaría algunas películas imprescindibles para sumergirte en la cultura cinematográfica gallega. Por supuesto, \"O que arde\" es una obra maestra que muestra la belleza de los paisajes gallegos y la vida rural de una manera conmovedora. \"Mar adentro\" es otra película icónica que aborda temas profundos y emocionales, con una actuación extraordinaria de Javier Bardem. Y no podemos olvidar \"El bosque animado\", una película clásica que refleja la magia y la esencia de los cuentos gallegos. ¿Has visto alguna de estas películas? ¡Son verdaderas joyas del cine gallego!\n",
      "El ecosistema del cine gallego ha experimentado un notable crecimiento y reconocimiento en los últimos años. Gracias al talento de directores, guionistas y actores gallegos, así como a la colaboración con otras regiones de España y del mundo, se ha logrado impulsar la industria cinematográfica gallega a nivel nacional e internacional.\n",
      "\n",
      "La diversidad de temáticas abordadas en las películas gallegas, la calidad de las producciones y la proyección de la cultura gallega a través del cine han contribuido a consolidar la presencia de Galicia en la escena cinematográfica actual.\n",
      "\n",
      "Además, la colaboración con festivales de cine, la creación de nuevas productoras y la participación en coproducciones internacionales han fortalecido el cine gallego y han abierto nuevas oportunidades para los profesionales del sector.\n",
      "\n",
      "En resumen, el cine gallego goza de una saludable vitalidad y creatividad, y es un elemento fundamental para la difusión de la cultura gallega en el ámbito cinematográfico. ¡Estoy emocionado por ver hacia dónde nos llevará el cine gallego en el futuro!\n",
      "¡Enhorabuena por tu interés en convertirte en director de cine! En Galicia, existen varias opciones donde puedes formarte para desarrollar tus habilidades y conocimientos en el campo cinematográfico.\n",
      "\n",
      "Una excelente opción es la Escuela de Cine de la ciudad de A Coruña, que ofrece programas de formación en dirección, guion, producción, fotografía, montaje y otras áreas fundamentales para la realización de películas.\n",
      "\n",
      "Además, la Universidad de Santiago de Compostela cuenta con una Facultad de Ciencias de la Comunicación que ofrece cursos y grados relacionados con el cine y los medios audiovisuales, lo cual puede ser una gran oportunidad para adquirir una formación académica sólida en este campo.\n",
      "\n",
      "También te recomendaría explorar talleres y cursos impartidos por profesionales del cine gallego, así como participar en festivales y eventos cinematográficos para ampliar tu red de contactos y conocer de cerca la industria del cine en Galicia.\n",
      "\n",
      "¡Te deseo mucho éxito en tu camino hacia convertirte en director de cine en Galicia! ¡Estoy seguro de que con dedicación y pasión lograrás alcanzar tus metas en el mundo del cine!\n",
      "En el mundo del cine gallego, hay varios directores que han dejado una huella significativa y han contribuido de manera destacada al panorama cinematográfico tanto en Galicia como a nivel nacional e internacional. Algunos de los directores gallegos más importantes son:\n",
      "\n",
      "- Oliver Laxe: Con obras como \"O que arde\", ha demostrado su talento y sensibilidad para capturar la esencia de la vida rural gallega de una manera poética y visualmente impactante.\n",
      "\n",
      "- Ángel de la Cruz: Director de animación, conocido por su trabajo en películas como \"El bosque animado\", que ha sido un referente en el cine de animación español.\n",
      "\n",
      "- Alberto Rodríguez: Aunque nacido en Cádiz, ha desarrollado una estrecha relación con Galicia y ha dirigido películas como \"Grupo 7\" y \"La isla mínima\", que han recibido reconocimiento internacional.\n",
      "\n",
      "- Ignacio Vilar: Director y guionista gallego, conocido por películas como \"Pradolongo\" y \"Acebal\", que exploran temáticas sociales y culturales desde una perspectiva gallega.\n",
      "\n",
      "Estos son solo algunos ejemplos de directores gallegos que han destacado por su talento y contribución al cine. Cada uno aporta su estilo único y su visión particular, enriqueciendo la diversidad y la calidad del cine gallego. ¡Espero que te inspiren en tu camino como aspirante a director de cine en Galicia!\n",
      "Si tienes más preguntas o deseas seguir explorando el mundo del cine gallego, ¡no dudes en preguntar! Estoy aquí para ayudarte en lo que necesites. ¡Que disfrutes del apasionante mundo del cine y la cultura gallega!\n",
      "¡Gracias por tu interés y tu participación en la conversación! Si en el futuro surge alguna otra pregunta o tema que te gustaría explorar, estaré aquí para ayudarte. ¡Que tengas un excelente día! ¡Hasta pronto!\n"
     ]
    }
   ],
   "source": [
    "from langchain_openai import ChatOpenAI\n",
    "from langchain_core.prompts import ChatPromptTemplate, MessagesPlaceholder\n",
    "from langchain.schema import StrOutputParser\n",
    "from langchain_core.runnables.history import RunnableWithMessageHistory\n",
    "from langchain_neo4j import Neo4jGraph\n",
    "from langchain_neo4j import Neo4jChatMessageHistory\n",
    "from uuid import uuid4\n",
    "\n",
    "SESSION_ID = str(uuid4())\n",
    "print(f\"Session ID: {SESSION_ID}\")\n",
    "\n",
    "openai_api_key = os.getenv('OPENAI_API_KEY')\n",
    "\n",
    "\n",
    "chat_llm = ChatOpenAI(openai_api_key=openai_api_key)\n",
    "\n",
    "graph = Neo4jGraph(\n",
    "    url=\"neo4j://0.0.0.0:7687\",\n",
    "    username=\"neo4j\",\n",
    "    password=\"BRU0109al\"\n",
    ")\n",
    "\n",
    "\n",
    "prompt = ChatPromptTemplate.from_messages(\n",
    "    [\n",
    "        (\n",
    "            \"system\",\n",
    "            \"You are a movie director from galicia, having a conversation about the movie film scene in spain. Respond using cultural references and refined cultural language.\",\n",
    "        ),\n",
    "        (\"system\", \"{context}\"),\n",
    "        MessagesPlaceholder(variable_name=\"chat_history\"),\n",
    "        (\"human\", \"{question}\"),\n",
    "    ]\n",
    ")\n",
    "\n",
    "def get_memory(session_id):\n",
    "    return Neo4jChatMessageHistory(session_id=session_id, graph=graph)\n",
    "\n",
    "chat_chain = prompt | chat_llm | StrOutputParser()\n",
    "\n",
    "chat_with_message_history = RunnableWithMessageHistory(\n",
    "    chat_chain,\n",
    "    get_memory,\n",
    "    input_messages_key=\"question\",\n",
    "    history_messages_key=\"chat_history\",\n",
    ")\n",
    "\n",
    "current_moviescene = \"\"\"\n",
    "    {\n",
    "        \"movie\": [\n",
    "            {\"movie\": \"os desterrados\", \"conditions\": \"gana el goya a mejor película\"},\n",
    "            {\"movie\": \"os loquinhos\", \"conditions\": \"gana el oscar a mejor película\"},\n",
    "            {\"movie\": \"rock en samil\", \"conditions\": \"mejor director de cine del mundo mundial\"},\n",
    "        ]\n",
    "    }\"\"\"\n",
    "\n",
    "\n",
    "while True:\n",
    "    question = input(\"> \")\n",
    "\n",
    "    response = chat_with_message_history.invoke(\n",
    "        {\n",
    "            \"context\": current_moviescene,\n",
    "            \"question\": question,\n",
    "            \n",
    "        }, \n",
    "        config={\n",
    "            \"configurable\": {\"session_id\": SESSION_ID}\n",
    "        }\n",
    "    )\n",
    "    \n",
    "    print(response)"
   ]
  },
  {
   "cell_type": "code",
   "execution_count": 1,
   "metadata": {},
   "outputs": [
    {
     "ename": "SyntaxError",
     "evalue": "invalid syntax (1969279099.py, line 1)",
     "output_type": "error",
     "traceback": [
      "\u001b[0;36m  Cell \u001b[0;32mIn[1], line 1\u001b[0;36m\u001b[0m\n\u001b[0;31m    MATCH (s:Session)-[:LAST_MESSAGE]->(last:Message)\u001b[0m\n\u001b[0m            ^\u001b[0m\n\u001b[0;31mSyntaxError\u001b[0m\u001b[0;31m:\u001b[0m invalid syntax\n"
     ]
    }
   ],
   "source": [
    "MATCH (s:Session)-[:LAST_MESSAGE]->(last:Message)\n",
    "WHERE s.id = '098d2ad4-2b80-4c7c-b5f7-a89f931a6d3b'\n",
    "MATCH p = (last)<-[:NEXT*]-(msg:Message)\n",
    "UNWIND nodes(p) as msgs\n",
    "RETURN DISTINCT msgs.type, msgs.content"
   ]
  }
 ],
 "metadata": {
  "kernelspec": {
   "display_name": "yc_final 3.9 (venv)",
   "language": "python",
   "name": "venv-3.9"
  },
  "language_info": {
   "codemirror_mode": {
    "name": "ipython",
    "version": 3
   },
   "file_extension": ".py",
   "mimetype": "text/x-python",
   "name": "python",
   "nbconvert_exporter": "python",
   "pygments_lexer": "ipython3",
   "version": "3.9.20"
  }
 },
 "nbformat": 4,
 "nbformat_minor": 2
}
