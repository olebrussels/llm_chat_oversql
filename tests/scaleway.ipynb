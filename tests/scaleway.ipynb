{
 "cells": [
  {
   "cell_type": "code",
   "execution_count": 1,
   "metadata": {},
   "outputs": [],
   "source": [
    "import os\n",
    "import openai\n",
    "\n",
    "from dotenv import load_dotenv, find_dotenv\n",
    "_ = load_dotenv(find_dotenv()) # read local .env file\n",
    "openai.api_key = os.environ['SCALEWAY_API_KEY']"
   ]
  },
  {
   "cell_type": "code",
   "execution_count": 2,
   "metadata": {},
   "outputs": [],
   "source": [
    "from openai import OpenAI\n",
    "\n",
    "client = OpenAI(\n",
    "    base_url=\"https://api.scaleway.ai/v1\", # # Scaleway's Generative APIs service URL\n",
    "    api_key=os.environ['SCALEWAY_API_KEY'] # Your unique API secret key from Scaleway\n",
    ")\n"
   ]
  },
  {
   "cell_type": "code",
   "execution_count": 9,
   "metadata": {},
   "outputs": [
    {
     "name": "stdout",
     "output_type": "stream",
     "text": [
      "**Tool Call: Generate Futuristic City Description**\n",
      "\n",
      "**Parameters:**\n",
      "- **Technology Level:** Advanced\n",
      "- **Energy Source:** Green\n",
      "- **Transportation:** Sustainable\n",
      "- **Architecture:** Eco-friendly\n",
      "- **Innovative Features:** Smart city, renewable energy, vertical farming\n",
      "\n",
      "**Response:**\n",
      "\n",
      "In the year 2150, the city of Neo-Eco is a marvel of human innovation and environmental stewardship. This futuristic metropolis is powered entirely by green energy, harnessing solar\n"
     ]
    }
   ],
   "source": [
    "# Create a chat completion for Llama 3.1 8b instruct\n",
    "completion = client.chat.completions.create(\n",
    "    model=\"deepseek-r1-distill-llama-70b\",\n",
    "    messages=[{\"role\": \"user\", \"content\": \"Describe a futuristic city with advanced technology and green energy solutions.\"}],\n",
    "    temperature=0.7,\n",
    "    max_tokens=100\n",
    ")\n",
    "\n",
    "# Output the result\n",
    "print(completion.choices[0].message.content)\n"
   ]
  },
  {
   "cell_type": "code",
   "execution_count": null,
   "metadata": {},
   "outputs": [
    {
     "name": "stdout",
     "output_type": "stream",
     "text": [
      "you are my social media assistant. \n",
      "i need your help writing a post on linkedin. \n",
      "i would like to share with my community that i am putting in place a \n",
      "note with my thoughts. in this post i would like to briefly describe the tech system and showcase \n",
      "some of my latest coding skills. \n",
      "i would like to explain why i use those tools: since it's such a personal project, i want to make sure\n",
      "that all the data stays in my control. this is why i use a self-hosted solutions. \n",
      "system: i record my thoughts on audio from my phone. then i upload the audio to my computer via nextcloud. then i use a speech to text api to \n",
      "transcribe the audio to text. i use some python scripts to change the file name and send it to another folder in my computer so that it becomes a logseq note. \n",
      " \n",
      "\n"
     ]
    }
   ],
   "source": [
    "prompt = f\"\"\"you are my social media assistant. \n",
    "i need your help writing a post on linkedin. \n",
    "i would like to share with my community that i am putting in place a \n",
    "note taking system with my thoughts. in this post i would like to briefly describe the tech system and showcase \n",
    "some of my latest coding skills. \n",
    "i would like to explain why i use those tools: since it's such a personal project, i want to make sure\n",
    "that all the data stays in my control. this is why i use a self-hosted solutions. \n",
    "system: i record my thoughts on audio from my phone. then i upload the audio to my computer via nextcloud. then i use a speech to text api to \n",
    "transcribe the audio to text. i use some python scripts to change the file name and send it to another folder in my computer so that it becomes a logseq note. \n",
    " \n",
    "\"\"\"\n",
    "\n",
    "print(prompt)"
   ]
  },
  {
   "cell_type": "code",
   "execution_count": 6,
   "metadata": {},
   "outputs": [],
   "source": [
    "model = \"deepseek-r1-distill-llama-70b\"\n",
    "def get_completion(prompt, model=model):\n",
    "    messages = [{\"role\": \"user\", \"content\": prompt}]\n",
    "    response = client.chat.completions.create(model=model,\n",
    "    messages=messages,\n",
    "    temperature=0)\n",
    "    return response.choices[0].message.content"
   ]
  },
  {
   "cell_type": "code",
   "execution_count": 7,
   "metadata": {},
   "outputs": [
    {
     "data": {
      "text/plain": [
       "\"Certainly! Here's a LinkedIn post based on your description:\\n\\n---\\n\\n📢 Excited to Share My Latest Project! 🚀\\n\\nI'm thrilled to share with my LinkedIn community that I've been working on a personal project that's close to my heart—a thought management system. This project isn't just about organizing my ideas; it's about ensuring my data stays entirely under my control, which is why I've opted for self-hosted solutions.\\n\\nHere's a quick overview of how the system works:\\n\\n1. **Recording Thoughts**: I start by recording my thoughts as audio clips using my phone. It's a convenient way to capture ideas on the go.\\n\\n2. **Uploading to Nextcloud**: Once recorded, I upload these audio files to my Nextcloud instance. This ensures that my data remains private and within my control.\\n\\n3. **Transcription with AI**: The next step involves using a speech-to-text API to transcribe the audio files into text. This makes my thoughts searchable and easier to organize.\\n\\n4. **Automating with Python**: I've written some Python scripts to rename the transcribed files and move them to a designated folder. This folder is synced with Logseq, turning each transcription into a note automatically.\\n\\nThis setup allows me to maintain privacy while leveraging powerful tools to manage my thoughts efficiently. It's a great way to keep my ideas organized without relying on third-party services.\\n\\nI'm always looking for ways to improve this system, so feel free to share any suggestions or questions you might have!\\n\\n#SelfHosted #PrivacyMatters #TechSetup #ProductivityTools #Logseq #Nextcloud\\n\\n---\\n\\nFeel free to customize it further to match your personal style!\""
      ]
     },
     "execution_count": 7,
     "metadata": {},
     "output_type": "execute_result"
    }
   ],
   "source": [
    "get_completion(prompt)"
   ]
  }
 ],
 "metadata": {
  "kernelspec": {
   "display_name": "yc_final 3.9 (venv)",
   "language": "python",
   "name": "venv-3.9"
  },
  "language_info": {
   "codemirror_mode": {
    "name": "ipython",
    "version": 3
   },
   "file_extension": ".py",
   "mimetype": "text/x-python",
   "name": "python",
   "nbconvert_exporter": "python",
   "pygments_lexer": "ipython3",
   "version": "3.9.20"
  }
 },
 "nbformat": 4,
 "nbformat_minor": 2
}
