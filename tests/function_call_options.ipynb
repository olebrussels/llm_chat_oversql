{
 "cells": [
  {
   "cell_type": "code",
   "execution_count": null,
   "id": "10822087-382d-4a4d-b8ec-3b82901fdd40",
   "metadata": {},
   "outputs": [],
   "source": [
    "# Call the ChatCompletion endpoint\n",
    "response = client.chat.completions.create(\n",
    "model=\"gpt-3.5-turbo\",\n",
    "messages=messages,\n",
    "functions=functions,\n",
    "function_call=\"auto\")"
   ]
  },
  {
   "cell_type": "code",
   "execution_count": null,
   "id": "0a98489a-2e21-4f57-9d9d-72cc8e5bcb56",
   "metadata": {},
   "outputs": [],
   "source": [
    "# Call the ChatCompletion endpoint\n",
    "response = client.chat.completions.create(\n",
    "model=\"gpt-3.5-turbo\",\n",
    "messages=messages,\n",
    "functions=functions,\n",
    "function_call=\"none\")#tells the model not to call the function by force"
   ]
  },
  {
   "cell_type": "code",
   "execution_count": null,
   "id": "cab6c80f-2b7d-4931-9705-b60939ee7f38",
   "metadata": {},
   "outputs": [],
   "source": [
    "# Call the ChatCompletion endpoint\n",
    "response = client.chat.completions.create(\n",
    "model=\"gpt-3.5-turbo\",\n",
    "messages=messages,\n",
    "functions=functions,\n",
    "function_call={\"name\": \"get_current_weather\")}, #here we are forcing the model to call always the function"
   ]
  }
 ],
 "metadata": {
  "kernelspec": {
   "display_name": "yc_final 3.9 (venv)",
   "language": "python",
   "name": "venv-3.9"
  },
  "language_info": {
   "codemirror_mode": {
    "name": "ipython",
    "version": 3
   },
   "file_extension": ".py",
   "mimetype": "text/x-python",
   "name": "python",
   "nbconvert_exporter": "python",
   "pygments_lexer": "ipython3",
   "version": "3.9.20"
  }
 },
 "nbformat": 4,
 "nbformat_minor": 5
}
